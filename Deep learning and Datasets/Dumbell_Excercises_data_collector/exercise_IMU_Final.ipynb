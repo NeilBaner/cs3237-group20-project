{
  "nbformat": 4,
  "nbformat_minor": 0,
  "metadata": {
    "colab": {
      "provenance": [],
      "collapsed_sections": [
        "-lYO-2WyS5jL",
        "Z3vpfue2S84l"
      ]
    },
    "kernelspec": {
      "name": "python3",
      "display_name": "Python 3"
    },
    "language_info": {
      "name": "python"
    }
  },
  "cells": [
    {
      "cell_type": "code",
      "execution_count": null,
      "metadata": {
        "colab": {
          "base_uri": "https://localhost:8080/"
        },
        "id": "41JweP18ILFC",
        "outputId": "3511c094-23af-4fc2-99dd-3a9b3038ed0e"
      },
      "outputs": [
        {
          "output_type": "stream",
          "name": "stdout",
          "text": [
            "--2022-11-16 07:56:23--  https://raw.githubusercontent.com/NeilBaner/cs3237-group20-project/main/Deep%20learning%20and%20Datasets/Dumbell_Excercises_data_collector%20/final_dumbbell_movement_dataset.csv?token=GHSAT0AAAAAABXWSP2HDQ6F67FJQ5UQG55QY3UUWUQ\n",
            "Resolving raw.githubusercontent.com (raw.githubusercontent.com)... 185.199.108.133, 185.199.109.133, 185.199.110.133, ...\n",
            "Connecting to raw.githubusercontent.com (raw.githubusercontent.com)|185.199.108.133|:443... connected.\n",
            "HTTP request sent, awaiting response... 200 OK\n",
            "Length: 1241708 (1.2M) [text/plain]\n",
            "Saving to: ‘final_dumbbell_movement_dataset.csv?token=GHSAT0AAAAAABXWSP2HDQ6F67FJQ5UQG55QY3UUWUQ’\n",
            "\n",
            "final_dumbbell_move 100%[===================>]   1.18M  --.-KB/s    in 0.07s   \n",
            "\n",
            "2022-11-16 07:56:23 (17.6 MB/s) - ‘final_dumbbell_movement_dataset.csv?token=GHSAT0AAAAAABXWSP2HDQ6F67FJQ5UQG55QY3UUWUQ’ saved [1241708/1241708]\n",
            "\n"
          ]
        }
      ],
      "source": [
        "!wget https://raw.githubusercontent.com/NeilBaner/cs3237-group20-project/main/Deep%20learning%20and%20Datasets/Dumbell_Excercises_data_collector%20/final_dumbbell_movement_dataset.csv?token=GHSAT0AAAAAABXWSP2HDQ6F67FJQ5UQG55QY3UUWUQ"
      ]
    },
    {
      "cell_type": "code",
      "source": [
        "import os\n",
        "import pandas as pd\n",
        "import numpy as np\n",
        "import matplotlib.pyplot as plt\n",
        "\n",
        "from collections import deque\n",
        "\n",
        "from sklearn.linear_model import LogisticRegression\n",
        "from sklearn.model_selection import train_test_split\n",
        "from sklearn.pipeline import make_pipeline\n",
        "from sklearn import preprocessing\n",
        "from sklearn.preprocessing import StandardScaler\n",
        "from sklearn.model_selection import train_test_split\n",
        "\n",
        "from keras.models import Sequential\n",
        "from keras.layers import Dense\n",
        "from tensorflow.keras.optimizers import SGD\n",
        "from tensorflow.keras.layers import LSTM\n",
        "from tensorflow.keras.callbacks import EarlyStopping, ModelCheckpoint\n",
        "\n",
        "import absl.logging\n",
        "absl.logging.set_verbosity(absl.logging.ERROR)"
      ],
      "metadata": {
        "id": "EjzFFociIONT"
      },
      "execution_count": null,
      "outputs": []
    },
    {
      "cell_type": "code",
      "source": [
        "os.listdir()"
      ],
      "metadata": {
        "colab": {
          "base_uri": "https://localhost:8080/"
        },
        "id": "uEaxQarFn4FE",
        "outputId": "fec9e36f-bd06-4dc8-8965-060ea6b1a54c"
      },
      "execution_count": null,
      "outputs": [
        {
          "output_type": "execute_result",
          "data": {
            "text/plain": [
              "['.config',\n",
              " 'final_dumbbell_movement_dataset.csv?token=GHSAT0AAAAAABXWSP2HDQ6F67FJQ5UQG55QY3UUWUQ',\n",
              " 'Idle_data.csv',\n",
              " 'final_dumbbell_movement_dataset2.csv',\n",
              " 'lstm.hd5',\n",
              " 'sample_data']"
            ]
          },
          "metadata": {},
          "execution_count": 69
        }
      ]
    },
    {
      "cell_type": "code",
      "source": [
        "# f = os.listdir()[2]\n",
        "df_o = pd.read_csv('final_dumbbell_movement_dataset.csv?token=GHSAT0AAAAAABXWSP2HDQ6F67FJQ5UQG55QY3UUWUQ')\n",
        "df_o.columns[:8]"
      ],
      "metadata": {
        "colab": {
          "base_uri": "https://localhost:8080/"
        },
        "id": "LfGAGmRVIv3e",
        "outputId": "c9a1d564-cdae-48f9-9b4c-c0ed9ea787a5"
      },
      "execution_count": null,
      "outputs": [
        {
          "output_type": "stream",
          "name": "stderr",
          "text": [
            "/usr/local/lib/python3.7/dist-packages/IPython/core/interactiveshell.py:3326: DtypeWarning: Columns (28,35,42,49,56,63) have mixed types.Specify dtype option on import or set low_memory=False.\n",
            "  exec(code_obj, self.user_global_ns, self.user_ns)\n"
          ]
        },
        {
          "output_type": "execute_result",
          "data": {
            "text/plain": [
              "Index(['gyroscope-x', 'gyroscope-y', 'gyroscope-z', 'accelorometer-x',\n",
              "       'accelorometer-y', 'accelorometer-z', 'resultant-g', 'label'],\n",
              "      dtype='object')"
            ]
          },
          "metadata": {},
          "execution_count": 70
        }
      ]
    },
    {
      "cell_type": "code",
      "source": [
        "f = os.listdir()[1]\n",
        "df_i = pd.read_csv('Idle_data.csv', header=None)\n",
        "df_i.columns = ['gyroscope-x', 'gyroscope-y', 'gyroscope-z', 'accelorometer-x',\n",
        "       'accelorometer-y', 'accelorometer-z', 'resultant-g', 'label']"
      ],
      "metadata": {
        "id": "W76R0w4Nod3n"
      },
      "execution_count": null,
      "outputs": []
    },
    {
      "cell_type": "code",
      "source": [
        "df = pd.concat([df_o, df_i])\n",
        "df.iloc[10000:11000,:]"
      ],
      "metadata": {
        "colab": {
          "base_uri": "https://localhost:8080/",
          "height": 592
        },
        "id": "RkiRPSHCo8tW",
        "outputId": "9d69f504-ffbf-4938-8997-fc44edf5a9f4"
      },
      "execution_count": null,
      "outputs": [
        {
          "output_type": "execute_result",
          "data": {
            "text/plain": [
              "       gyroscope-x  gyroscope-y  gyroscope-z  accelorometer-x  \\\n",
              "10000         0.84        -7.73         7.94             0.56   \n",
              "10001        -9.07       -16.98        10.76             0.56   \n",
              "10002       -11.64        -5.70        13.45             0.55   \n",
              "10003        -3.57       -14.65        10.70             0.44   \n",
              "10004        -5.17       -22.83        14.69             0.42   \n",
              "...            ...          ...          ...              ...   \n",
              "109          -0.02         0.03        -0.02             0.00   \n",
              "110          -0.01         0.04         0.06             0.00   \n",
              "111          -0.01         0.00        -0.01             0.00   \n",
              "112           0.01         0.04        -0.03             0.00   \n",
              "113           0.03         0.03         0.01             0.00   \n",
              "\n",
              "       accelorometer-y  accelorometer-z  resultant-g           label  \\\n",
              "10000            -0.58             1.33         1.56  Dumbbell-Squat   \n",
              "10001            -0.46             1.31         1.50  Dumbbell-Squat   \n",
              "10002            -0.35             1.27         1.43  Dumbbell-Squat   \n",
              "10003            -0.27             1.24         1.35  Dumbbell-Squat   \n",
              "10004            -0.08             1.28         1.35  Dumbbell-Squat   \n",
              "...                ...              ...          ...             ...   \n",
              "109               0.00             1.00         1.00            Idle   \n",
              "110               0.00             1.00         1.00            Idle   \n",
              "111               0.00             1.00         1.00            Idle   \n",
              "112               0.00             1.00         1.00            Idle   \n",
              "113               0.00             1.00         1.00            Idle   \n",
              "\n",
              "       Unnamed: 8  Unnamed: 9  ...  Unnamed: 54  Unnamed: 55  Unnamed: 56  \\\n",
              "10000         NaN         NaN  ...          NaN          NaN          NaN   \n",
              "10001         NaN         NaN  ...          NaN          NaN          NaN   \n",
              "10002         NaN         NaN  ...          NaN          NaN          NaN   \n",
              "10003         NaN         NaN  ...          NaN          NaN          NaN   \n",
              "10004         NaN         NaN  ...          NaN          NaN          NaN   \n",
              "...           ...         ...  ...          ...          ...          ...   \n",
              "109           NaN         NaN  ...          NaN          NaN          NaN   \n",
              "110           NaN         NaN  ...          NaN          NaN          NaN   \n",
              "111           NaN         NaN  ...          NaN          NaN          NaN   \n",
              "112           NaN         NaN  ...          NaN          NaN          NaN   \n",
              "113           NaN         NaN  ...          NaN          NaN          NaN   \n",
              "\n",
              "       Unnamed: 57  Unnamed: 58  Unnamed: 59  Unnamed: 60  Unnamed: 61  \\\n",
              "10000          NaN          NaN          NaN          NaN          NaN   \n",
              "10001          NaN          NaN          NaN          NaN          NaN   \n",
              "10002          NaN          NaN          NaN          NaN          NaN   \n",
              "10003          NaN          NaN          NaN          NaN          NaN   \n",
              "10004          NaN          NaN          NaN          NaN          NaN   \n",
              "...            ...          ...          ...          ...          ...   \n",
              "109            NaN          NaN          NaN          NaN          NaN   \n",
              "110            NaN          NaN          NaN          NaN          NaN   \n",
              "111            NaN          NaN          NaN          NaN          NaN   \n",
              "112            NaN          NaN          NaN          NaN          NaN   \n",
              "113            NaN          NaN          NaN          NaN          NaN   \n",
              "\n",
              "       Unnamed: 62  Unnamed: 63  \n",
              "10000          NaN          NaN  \n",
              "10001          NaN          NaN  \n",
              "10002          NaN          NaN  \n",
              "10003          NaN          NaN  \n",
              "10004          NaN          NaN  \n",
              "...            ...          ...  \n",
              "109            NaN          NaN  \n",
              "110            NaN          NaN  \n",
              "111            NaN          NaN  \n",
              "112            NaN          NaN  \n",
              "113            NaN          NaN  \n",
              "\n",
              "[1000 rows x 64 columns]"
            ],
            "text/html": [
              "\n",
              "  <div id=\"df-24c7bc5c-39f8-429c-b3f6-0938a8a3eea7\">\n",
              "    <div class=\"colab-df-container\">\n",
              "      <div>\n",
              "<style scoped>\n",
              "    .dataframe tbody tr th:only-of-type {\n",
              "        vertical-align: middle;\n",
              "    }\n",
              "\n",
              "    .dataframe tbody tr th {\n",
              "        vertical-align: top;\n",
              "    }\n",
              "\n",
              "    .dataframe thead th {\n",
              "        text-align: right;\n",
              "    }\n",
              "</style>\n",
              "<table border=\"1\" class=\"dataframe\">\n",
              "  <thead>\n",
              "    <tr style=\"text-align: right;\">\n",
              "      <th></th>\n",
              "      <th>gyroscope-x</th>\n",
              "      <th>gyroscope-y</th>\n",
              "      <th>gyroscope-z</th>\n",
              "      <th>accelorometer-x</th>\n",
              "      <th>accelorometer-y</th>\n",
              "      <th>accelorometer-z</th>\n",
              "      <th>resultant-g</th>\n",
              "      <th>label</th>\n",
              "      <th>Unnamed: 8</th>\n",
              "      <th>Unnamed: 9</th>\n",
              "      <th>...</th>\n",
              "      <th>Unnamed: 54</th>\n",
              "      <th>Unnamed: 55</th>\n",
              "      <th>Unnamed: 56</th>\n",
              "      <th>Unnamed: 57</th>\n",
              "      <th>Unnamed: 58</th>\n",
              "      <th>Unnamed: 59</th>\n",
              "      <th>Unnamed: 60</th>\n",
              "      <th>Unnamed: 61</th>\n",
              "      <th>Unnamed: 62</th>\n",
              "      <th>Unnamed: 63</th>\n",
              "    </tr>\n",
              "  </thead>\n",
              "  <tbody>\n",
              "    <tr>\n",
              "      <th>10000</th>\n",
              "      <td>0.84</td>\n",
              "      <td>-7.73</td>\n",
              "      <td>7.94</td>\n",
              "      <td>0.56</td>\n",
              "      <td>-0.58</td>\n",
              "      <td>1.33</td>\n",
              "      <td>1.56</td>\n",
              "      <td>Dumbbell-Squat</td>\n",
              "      <td>NaN</td>\n",
              "      <td>NaN</td>\n",
              "      <td>...</td>\n",
              "      <td>NaN</td>\n",
              "      <td>NaN</td>\n",
              "      <td>NaN</td>\n",
              "      <td>NaN</td>\n",
              "      <td>NaN</td>\n",
              "      <td>NaN</td>\n",
              "      <td>NaN</td>\n",
              "      <td>NaN</td>\n",
              "      <td>NaN</td>\n",
              "      <td>NaN</td>\n",
              "    </tr>\n",
              "    <tr>\n",
              "      <th>10001</th>\n",
              "      <td>-9.07</td>\n",
              "      <td>-16.98</td>\n",
              "      <td>10.76</td>\n",
              "      <td>0.56</td>\n",
              "      <td>-0.46</td>\n",
              "      <td>1.31</td>\n",
              "      <td>1.50</td>\n",
              "      <td>Dumbbell-Squat</td>\n",
              "      <td>NaN</td>\n",
              "      <td>NaN</td>\n",
              "      <td>...</td>\n",
              "      <td>NaN</td>\n",
              "      <td>NaN</td>\n",
              "      <td>NaN</td>\n",
              "      <td>NaN</td>\n",
              "      <td>NaN</td>\n",
              "      <td>NaN</td>\n",
              "      <td>NaN</td>\n",
              "      <td>NaN</td>\n",
              "      <td>NaN</td>\n",
              "      <td>NaN</td>\n",
              "    </tr>\n",
              "    <tr>\n",
              "      <th>10002</th>\n",
              "      <td>-11.64</td>\n",
              "      <td>-5.70</td>\n",
              "      <td>13.45</td>\n",
              "      <td>0.55</td>\n",
              "      <td>-0.35</td>\n",
              "      <td>1.27</td>\n",
              "      <td>1.43</td>\n",
              "      <td>Dumbbell-Squat</td>\n",
              "      <td>NaN</td>\n",
              "      <td>NaN</td>\n",
              "      <td>...</td>\n",
              "      <td>NaN</td>\n",
              "      <td>NaN</td>\n",
              "      <td>NaN</td>\n",
              "      <td>NaN</td>\n",
              "      <td>NaN</td>\n",
              "      <td>NaN</td>\n",
              "      <td>NaN</td>\n",
              "      <td>NaN</td>\n",
              "      <td>NaN</td>\n",
              "      <td>NaN</td>\n",
              "    </tr>\n",
              "    <tr>\n",
              "      <th>10003</th>\n",
              "      <td>-3.57</td>\n",
              "      <td>-14.65</td>\n",
              "      <td>10.70</td>\n",
              "      <td>0.44</td>\n",
              "      <td>-0.27</td>\n",
              "      <td>1.24</td>\n",
              "      <td>1.35</td>\n",
              "      <td>Dumbbell-Squat</td>\n",
              "      <td>NaN</td>\n",
              "      <td>NaN</td>\n",
              "      <td>...</td>\n",
              "      <td>NaN</td>\n",
              "      <td>NaN</td>\n",
              "      <td>NaN</td>\n",
              "      <td>NaN</td>\n",
              "      <td>NaN</td>\n",
              "      <td>NaN</td>\n",
              "      <td>NaN</td>\n",
              "      <td>NaN</td>\n",
              "      <td>NaN</td>\n",
              "      <td>NaN</td>\n",
              "    </tr>\n",
              "    <tr>\n",
              "      <th>10004</th>\n",
              "      <td>-5.17</td>\n",
              "      <td>-22.83</td>\n",
              "      <td>14.69</td>\n",
              "      <td>0.42</td>\n",
              "      <td>-0.08</td>\n",
              "      <td>1.28</td>\n",
              "      <td>1.35</td>\n",
              "      <td>Dumbbell-Squat</td>\n",
              "      <td>NaN</td>\n",
              "      <td>NaN</td>\n",
              "      <td>...</td>\n",
              "      <td>NaN</td>\n",
              "      <td>NaN</td>\n",
              "      <td>NaN</td>\n",
              "      <td>NaN</td>\n",
              "      <td>NaN</td>\n",
              "      <td>NaN</td>\n",
              "      <td>NaN</td>\n",
              "      <td>NaN</td>\n",
              "      <td>NaN</td>\n",
              "      <td>NaN</td>\n",
              "    </tr>\n",
              "    <tr>\n",
              "      <th>...</th>\n",
              "      <td>...</td>\n",
              "      <td>...</td>\n",
              "      <td>...</td>\n",
              "      <td>...</td>\n",
              "      <td>...</td>\n",
              "      <td>...</td>\n",
              "      <td>...</td>\n",
              "      <td>...</td>\n",
              "      <td>...</td>\n",
              "      <td>...</td>\n",
              "      <td>...</td>\n",
              "      <td>...</td>\n",
              "      <td>...</td>\n",
              "      <td>...</td>\n",
              "      <td>...</td>\n",
              "      <td>...</td>\n",
              "      <td>...</td>\n",
              "      <td>...</td>\n",
              "      <td>...</td>\n",
              "      <td>...</td>\n",
              "      <td>...</td>\n",
              "    </tr>\n",
              "    <tr>\n",
              "      <th>109</th>\n",
              "      <td>-0.02</td>\n",
              "      <td>0.03</td>\n",
              "      <td>-0.02</td>\n",
              "      <td>0.00</td>\n",
              "      <td>0.00</td>\n",
              "      <td>1.00</td>\n",
              "      <td>1.00</td>\n",
              "      <td>Idle</td>\n",
              "      <td>NaN</td>\n",
              "      <td>NaN</td>\n",
              "      <td>...</td>\n",
              "      <td>NaN</td>\n",
              "      <td>NaN</td>\n",
              "      <td>NaN</td>\n",
              "      <td>NaN</td>\n",
              "      <td>NaN</td>\n",
              "      <td>NaN</td>\n",
              "      <td>NaN</td>\n",
              "      <td>NaN</td>\n",
              "      <td>NaN</td>\n",
              "      <td>NaN</td>\n",
              "    </tr>\n",
              "    <tr>\n",
              "      <th>110</th>\n",
              "      <td>-0.01</td>\n",
              "      <td>0.04</td>\n",
              "      <td>0.06</td>\n",
              "      <td>0.00</td>\n",
              "      <td>0.00</td>\n",
              "      <td>1.00</td>\n",
              "      <td>1.00</td>\n",
              "      <td>Idle</td>\n",
              "      <td>NaN</td>\n",
              "      <td>NaN</td>\n",
              "      <td>...</td>\n",
              "      <td>NaN</td>\n",
              "      <td>NaN</td>\n",
              "      <td>NaN</td>\n",
              "      <td>NaN</td>\n",
              "      <td>NaN</td>\n",
              "      <td>NaN</td>\n",
              "      <td>NaN</td>\n",
              "      <td>NaN</td>\n",
              "      <td>NaN</td>\n",
              "      <td>NaN</td>\n",
              "    </tr>\n",
              "    <tr>\n",
              "      <th>111</th>\n",
              "      <td>-0.01</td>\n",
              "      <td>0.00</td>\n",
              "      <td>-0.01</td>\n",
              "      <td>0.00</td>\n",
              "      <td>0.00</td>\n",
              "      <td>1.00</td>\n",
              "      <td>1.00</td>\n",
              "      <td>Idle</td>\n",
              "      <td>NaN</td>\n",
              "      <td>NaN</td>\n",
              "      <td>...</td>\n",
              "      <td>NaN</td>\n",
              "      <td>NaN</td>\n",
              "      <td>NaN</td>\n",
              "      <td>NaN</td>\n",
              "      <td>NaN</td>\n",
              "      <td>NaN</td>\n",
              "      <td>NaN</td>\n",
              "      <td>NaN</td>\n",
              "      <td>NaN</td>\n",
              "      <td>NaN</td>\n",
              "    </tr>\n",
              "    <tr>\n",
              "      <th>112</th>\n",
              "      <td>0.01</td>\n",
              "      <td>0.04</td>\n",
              "      <td>-0.03</td>\n",
              "      <td>0.00</td>\n",
              "      <td>0.00</td>\n",
              "      <td>1.00</td>\n",
              "      <td>1.00</td>\n",
              "      <td>Idle</td>\n",
              "      <td>NaN</td>\n",
              "      <td>NaN</td>\n",
              "      <td>...</td>\n",
              "      <td>NaN</td>\n",
              "      <td>NaN</td>\n",
              "      <td>NaN</td>\n",
              "      <td>NaN</td>\n",
              "      <td>NaN</td>\n",
              "      <td>NaN</td>\n",
              "      <td>NaN</td>\n",
              "      <td>NaN</td>\n",
              "      <td>NaN</td>\n",
              "      <td>NaN</td>\n",
              "    </tr>\n",
              "    <tr>\n",
              "      <th>113</th>\n",
              "      <td>0.03</td>\n",
              "      <td>0.03</td>\n",
              "      <td>0.01</td>\n",
              "      <td>0.00</td>\n",
              "      <td>0.00</td>\n",
              "      <td>1.00</td>\n",
              "      <td>1.00</td>\n",
              "      <td>Idle</td>\n",
              "      <td>NaN</td>\n",
              "      <td>NaN</td>\n",
              "      <td>...</td>\n",
              "      <td>NaN</td>\n",
              "      <td>NaN</td>\n",
              "      <td>NaN</td>\n",
              "      <td>NaN</td>\n",
              "      <td>NaN</td>\n",
              "      <td>NaN</td>\n",
              "      <td>NaN</td>\n",
              "      <td>NaN</td>\n",
              "      <td>NaN</td>\n",
              "      <td>NaN</td>\n",
              "    </tr>\n",
              "  </tbody>\n",
              "</table>\n",
              "<p>1000 rows × 64 columns</p>\n",
              "</div>\n",
              "      <button class=\"colab-df-convert\" onclick=\"convertToInteractive('df-24c7bc5c-39f8-429c-b3f6-0938a8a3eea7')\"\n",
              "              title=\"Convert this dataframe to an interactive table.\"\n",
              "              style=\"display:none;\">\n",
              "        \n",
              "  <svg xmlns=\"http://www.w3.org/2000/svg\" height=\"24px\"viewBox=\"0 0 24 24\"\n",
              "       width=\"24px\">\n",
              "    <path d=\"M0 0h24v24H0V0z\" fill=\"none\"/>\n",
              "    <path d=\"M18.56 5.44l.94 2.06.94-2.06 2.06-.94-2.06-.94-.94-2.06-.94 2.06-2.06.94zm-11 1L8.5 8.5l.94-2.06 2.06-.94-2.06-.94L8.5 2.5l-.94 2.06-2.06.94zm10 10l.94 2.06.94-2.06 2.06-.94-2.06-.94-.94-2.06-.94 2.06-2.06.94z\"/><path d=\"M17.41 7.96l-1.37-1.37c-.4-.4-.92-.59-1.43-.59-.52 0-1.04.2-1.43.59L10.3 9.45l-7.72 7.72c-.78.78-.78 2.05 0 2.83L4 21.41c.39.39.9.59 1.41.59.51 0 1.02-.2 1.41-.59l7.78-7.78 2.81-2.81c.8-.78.8-2.07 0-2.86zM5.41 20L4 18.59l7.72-7.72 1.47 1.35L5.41 20z\"/>\n",
              "  </svg>\n",
              "      </button>\n",
              "      \n",
              "  <style>\n",
              "    .colab-df-container {\n",
              "      display:flex;\n",
              "      flex-wrap:wrap;\n",
              "      gap: 12px;\n",
              "    }\n",
              "\n",
              "    .colab-df-convert {\n",
              "      background-color: #E8F0FE;\n",
              "      border: none;\n",
              "      border-radius: 50%;\n",
              "      cursor: pointer;\n",
              "      display: none;\n",
              "      fill: #1967D2;\n",
              "      height: 32px;\n",
              "      padding: 0 0 0 0;\n",
              "      width: 32px;\n",
              "    }\n",
              "\n",
              "    .colab-df-convert:hover {\n",
              "      background-color: #E2EBFA;\n",
              "      box-shadow: 0px 1px 2px rgba(60, 64, 67, 0.3), 0px 1px 3px 1px rgba(60, 64, 67, 0.15);\n",
              "      fill: #174EA6;\n",
              "    }\n",
              "\n",
              "    [theme=dark] .colab-df-convert {\n",
              "      background-color: #3B4455;\n",
              "      fill: #D2E3FC;\n",
              "    }\n",
              "\n",
              "    [theme=dark] .colab-df-convert:hover {\n",
              "      background-color: #434B5C;\n",
              "      box-shadow: 0px 1px 3px 1px rgba(0, 0, 0, 0.15);\n",
              "      filter: drop-shadow(0px 1px 2px rgba(0, 0, 0, 0.3));\n",
              "      fill: #FFFFFF;\n",
              "    }\n",
              "  </style>\n",
              "\n",
              "      <script>\n",
              "        const buttonEl =\n",
              "          document.querySelector('#df-24c7bc5c-39f8-429c-b3f6-0938a8a3eea7 button.colab-df-convert');\n",
              "        buttonEl.style.display =\n",
              "          google.colab.kernel.accessAllowed ? 'block' : 'none';\n",
              "\n",
              "        async function convertToInteractive(key) {\n",
              "          const element = document.querySelector('#df-24c7bc5c-39f8-429c-b3f6-0938a8a3eea7');\n",
              "          const dataTable =\n",
              "            await google.colab.kernel.invokeFunction('convertToInteractive',\n",
              "                                                     [key], {});\n",
              "          if (!dataTable) return;\n",
              "\n",
              "          const docLinkHtml = 'Like what you see? Visit the ' +\n",
              "            '<a target=\"_blank\" href=https://colab.research.google.com/notebooks/data_table.ipynb>data table notebook</a>'\n",
              "            + ' to learn more about interactive tables.';\n",
              "          element.innerHTML = '';\n",
              "          dataTable['output_type'] = 'display_data';\n",
              "          await google.colab.output.renderOutput(dataTable, element);\n",
              "          const docLink = document.createElement('div');\n",
              "          docLink.innerHTML = docLinkHtml;\n",
              "          element.appendChild(docLink);\n",
              "        }\n",
              "      </script>\n",
              "    </div>\n",
              "  </div>\n",
              "  "
            ]
          },
          "metadata": {},
          "execution_count": 73
        }
      ]
    },
    {
      "cell_type": "code",
      "source": [
        "data = {}\n",
        "for l in df['label'].unique():\n",
        "    data[l.lower()] = df[df['label'].str.lower() == l.lower()].iloc[:,:7]"
      ],
      "metadata": {
        "id": "Z4l7gUE8JH2p"
      },
      "execution_count": null,
      "outputs": []
    },
    {
      "cell_type": "code",
      "source": [
        "df_xy = df.iloc[:,:8]"
      ],
      "metadata": {
        "id": "wmRagWKrZLTo"
      },
      "execution_count": null,
      "outputs": []
    },
    {
      "cell_type": "code",
      "source": [
        "label_dict = {}\n",
        "for i, l in enumerate(data.keys()):\n",
        "    label_dict[l] = i\n",
        "    print(f\"{l}: {len(data[l])}\")"
      ],
      "metadata": {
        "colab": {
          "base_uri": "https://localhost:8080/"
        },
        "id": "Cl43EMwjJbPM",
        "outputId": "8e8aabd6-e157-46e1-c7ac-816188cbd79c"
      },
      "execution_count": null,
      "outputs": [
        {
          "output_type": "stream",
          "name": "stdout",
          "text": [
            "idle: 6455\n",
            "bicep-curl: 1618\n",
            "shoulder-press: 1647\n",
            "left-shoulder-lateral-raise: 821\n",
            "right-shoulder-lateral-raise: 783\n",
            "shoulder-front-raise: 1113\n",
            "left-hand-tricep-extension: 716\n",
            "right-hand-tricep-extension: 735\n",
            "forward-lunge: 2132\n",
            "dumbbell-squat: 1109\n"
          ]
        }
      ]
    },
    {
      "cell_type": "code",
      "source": [
        "label_dict"
      ],
      "metadata": {
        "colab": {
          "base_uri": "https://localhost:8080/"
        },
        "id": "cG3oEOjqJ1eu",
        "outputId": "c041f575-5175-4e6c-986e-61795af566bc"
      },
      "execution_count": null,
      "outputs": [
        {
          "output_type": "execute_result",
          "data": {
            "text/plain": [
              "{'idle': 0,\n",
              " 'bicep-curl': 1,\n",
              " 'shoulder-press': 2,\n",
              " 'left-shoulder-lateral-raise': 3,\n",
              " 'right-shoulder-lateral-raise': 4,\n",
              " 'shoulder-front-raise': 5,\n",
              " 'left-hand-tricep-extension': 6,\n",
              " 'right-hand-tricep-extension': 7,\n",
              " 'forward-lunge': 8,\n",
              " 'dumbbell-squat': 9}"
            ]
          },
          "metadata": {},
          "execution_count": 77
        }
      ]
    },
    {
      "cell_type": "markdown",
      "source": [
        "#Logistic regression"
      ],
      "metadata": {
        "id": "-lYO-2WyS5jL"
      }
    },
    {
      "cell_type": "code",
      "source": [
        "X_train = []\n",
        "Y_train = []\n",
        "for key in data:\n",
        "    d = np.array(data[key])\n",
        "    for i in range(len(d)):\n",
        "        X_train.append(d[i])\n",
        "        Y_train.append(label_dict[key])"
      ],
      "metadata": {
        "id": "SYsLykzSSeXe"
      },
      "execution_count": null,
      "outputs": []
    },
    {
      "cell_type": "code",
      "source": [
        "X = np.array(X_train)\n",
        "Y = np.array(Y_train)\n",
        "X_train, X_test, Y_train, Y_test = train_test_split(X, Y, test_size = 0.2, random_state = 1)\n",
        "pipe = make_pipeline(StandardScaler(), LogisticRegression())\n",
        "pipe.fit(X_train, Y_train)\n",
        "pipe.score(X_test, Y_test)\n",
        "\n",
        "# X = np.array(X_train)\n",
        "# Y = np.array(Y_train)\n",
        "# reg = LinearRegression().fit(X, Y)\n",
        "# reg.score(X, Y)"
      ],
      "metadata": {
        "colab": {
          "base_uri": "https://localhost:8080/"
        },
        "id": "_mjja4HJSkfF",
        "outputId": "3915e69c-4ca4-4613-e628-49474ecb86e6"
      },
      "execution_count": null,
      "outputs": [
        {
          "output_type": "execute_result",
          "data": {
            "text/plain": [
              "0.6110351117191063"
            ]
          },
          "metadata": {},
          "execution_count": 81
        }
      ]
    },
    {
      "cell_type": "code",
      "source": [
        "#index i prediction\n",
        "i = 3\n",
        "pipe.predict(X_test[i].reshape(1, -1)), Y_test[i]"
      ],
      "metadata": {
        "colab": {
          "base_uri": "https://localhost:8080/"
        },
        "id": "Ye4v7zEyoajd",
        "outputId": "5b1de3bc-c4f2-46a9-de26-b39647eb9995"
      },
      "execution_count": null,
      "outputs": [
        {
          "output_type": "execute_result",
          "data": {
            "text/plain": [
              "(array([2]), 2)"
            ]
          },
          "metadata": {},
          "execution_count": 12
        }
      ]
    },
    {
      "cell_type": "markdown",
      "source": [
        "#MLP"
      ],
      "metadata": {
        "id": "Z3vpfue2S84l"
      }
    },
    {
      "cell_type": "code",
      "source": [
        "window = 50\n",
        "slide = 10\n",
        "data_q = deque(maxlen=window)\n",
        "X = []\n",
        "Y = []\n",
        "for i in range(len(df_xy)):\n",
        "    data_q.append(df_xy.iloc[i,:])\n",
        "    if len(data_q) == window and i % slide == 0:\n",
        "        data = np.asarray(data_q)\n",
        "        x = data[:,:7]\n",
        "        scaler = preprocessing.StandardScaler().fit(x)\n",
        "        x = scaler.transform(x)\n",
        "        X.append(x)\n",
        "        l, counts = np.unique(data[:,7], return_counts=True)\n",
        "        y = np.zeros(len(label_dict))\n",
        "        y[label_dict[l[np.argmax(counts)].lower()]] = 1\n",
        "        Y.append(y)\n",
        "    \n",
        "X = np.array(X)\n",
        "Y = np.array(Y)\n",
        "X_train, X_test, Y_train, Y_test = train_test_split(X, Y, test_size = 0.2, random_state = 1)"
      ],
      "metadata": {
        "id": "Pm8uYIRRSgI4"
      },
      "execution_count": null,
      "outputs": []
    },
    {
      "cell_type": "code",
      "source": [
        "from keras.models import Sequential\n",
        "from keras.layers import Dense\n",
        "from tensorflow.keras.optimizers import SGD\n",
        "\n",
        "nn = Sequential()\n",
        "nn.add(Dense(128, input_shape = (window*7, ), activation = 'relu'))\n",
        "nn.add(Dense(len(label_dict), activation = 'softmax'))\n",
        "\n",
        "sgd = SGD(learning_rate = 0.1)\n",
        "\n",
        "nn.compile(loss='categorical_crossentropy', optimizer=sgd, metrics = 'accuracy')\n",
        "\n",
        "X_train = X_train.reshape(-1, window*7)\n",
        "Y_train = Y_train.reshape(-1, len(label_dict))\n",
        "X_test = X_test.reshape(-1, window*7)\n",
        "Y_test = Y_test.reshape(-1, len(label_dict))\n",
        "mlp_history = nn.fit(X_train, Y_train, shuffle = True, epochs = 50, validation_data = (X_test, Y_test))"
      ],
      "metadata": {
        "colab": {
          "base_uri": "https://localhost:8080/"
        },
        "id": "mFDFjabRRQ8J",
        "outputId": "ff28e7f4-1deb-4ea2-fc9a-eba79a19a6e6"
      },
      "execution_count": null,
      "outputs": [
        {
          "output_type": "stream",
          "name": "stdout",
          "text": [
            "Epoch 1/50\n",
            "43/43 [==============================] - 1s 7ms/step - loss: 1.9963 - accuracy: 0.3697 - val_loss: 1.7862 - val_accuracy: 0.4503\n",
            "Epoch 2/50\n",
            "43/43 [==============================] - 0s 3ms/step - loss: 1.0562 - accuracy: 0.6969 - val_loss: 1.4274 - val_accuracy: 0.5526\n",
            "Epoch 3/50\n",
            "43/43 [==============================] - 0s 3ms/step - loss: 0.5618 - accuracy: 0.8873 - val_loss: 1.1817 - val_accuracy: 0.6433\n",
            "Epoch 4/50\n",
            "43/43 [==============================] - 0s 3ms/step - loss: 0.2936 - accuracy: 0.9736 - val_loss: 1.0854 - val_accuracy: 0.6696\n",
            "Epoch 5/50\n",
            "43/43 [==============================] - 0s 3ms/step - loss: 0.1629 - accuracy: 0.9949 - val_loss: 1.0286 - val_accuracy: 0.6959\n",
            "Epoch 6/50\n",
            "43/43 [==============================] - 0s 3ms/step - loss: 0.0998 - accuracy: 1.0000 - val_loss: 1.0007 - val_accuracy: 0.7018\n",
            "Epoch 7/50\n",
            "43/43 [==============================] - 0s 3ms/step - loss: 0.0693 - accuracy: 1.0000 - val_loss: 0.9849 - val_accuracy: 0.7047\n",
            "Epoch 8/50\n",
            "43/43 [==============================] - 0s 3ms/step - loss: 0.0521 - accuracy: 1.0000 - val_loss: 0.9676 - val_accuracy: 0.7105\n",
            "Epoch 9/50\n",
            "43/43 [==============================] - 0s 3ms/step - loss: 0.0411 - accuracy: 1.0000 - val_loss: 0.9648 - val_accuracy: 0.7222\n",
            "Epoch 10/50\n",
            "43/43 [==============================] - 0s 3ms/step - loss: 0.0338 - accuracy: 1.0000 - val_loss: 0.9615 - val_accuracy: 0.7281\n",
            "Epoch 11/50\n",
            "43/43 [==============================] - 0s 4ms/step - loss: 0.0285 - accuracy: 1.0000 - val_loss: 0.9576 - val_accuracy: 0.7281\n",
            "Epoch 12/50\n",
            "43/43 [==============================] - 0s 5ms/step - loss: 0.0246 - accuracy: 1.0000 - val_loss: 0.9556 - val_accuracy: 0.7339\n",
            "Epoch 13/50\n",
            "43/43 [==============================] - 0s 6ms/step - loss: 0.0216 - accuracy: 1.0000 - val_loss: 0.9540 - val_accuracy: 0.7398\n",
            "Epoch 14/50\n",
            "43/43 [==============================] - 0s 4ms/step - loss: 0.0192 - accuracy: 1.0000 - val_loss: 0.9527 - val_accuracy: 0.7339\n",
            "Epoch 15/50\n",
            "43/43 [==============================] - 0s 5ms/step - loss: 0.0172 - accuracy: 1.0000 - val_loss: 0.9509 - val_accuracy: 0.7368\n",
            "Epoch 16/50\n",
            "43/43 [==============================] - 0s 4ms/step - loss: 0.0156 - accuracy: 1.0000 - val_loss: 0.9513 - val_accuracy: 0.7368\n",
            "Epoch 17/50\n",
            "43/43 [==============================] - 0s 4ms/step - loss: 0.0143 - accuracy: 1.0000 - val_loss: 0.9514 - val_accuracy: 0.7398\n",
            "Epoch 18/50\n",
            "43/43 [==============================] - 0s 5ms/step - loss: 0.0131 - accuracy: 1.0000 - val_loss: 0.9511 - val_accuracy: 0.7398\n",
            "Epoch 19/50\n",
            "43/43 [==============================] - 0s 5ms/step - loss: 0.0121 - accuracy: 1.0000 - val_loss: 0.9507 - val_accuracy: 0.7427\n",
            "Epoch 20/50\n",
            "43/43 [==============================] - 0s 5ms/step - loss: 0.0113 - accuracy: 1.0000 - val_loss: 0.9509 - val_accuracy: 0.7427\n",
            "Epoch 21/50\n",
            "43/43 [==============================] - 0s 5ms/step - loss: 0.0105 - accuracy: 1.0000 - val_loss: 0.9507 - val_accuracy: 0.7427\n",
            "Epoch 22/50\n",
            "43/43 [==============================] - 0s 5ms/step - loss: 0.0099 - accuracy: 1.0000 - val_loss: 0.9498 - val_accuracy: 0.7456\n",
            "Epoch 23/50\n",
            "43/43 [==============================] - 0s 5ms/step - loss: 0.0093 - accuracy: 1.0000 - val_loss: 0.9513 - val_accuracy: 0.7456\n",
            "Epoch 24/50\n",
            "43/43 [==============================] - 0s 4ms/step - loss: 0.0087 - accuracy: 1.0000 - val_loss: 0.9517 - val_accuracy: 0.7485\n",
            "Epoch 25/50\n",
            "43/43 [==============================] - 0s 4ms/step - loss: 0.0083 - accuracy: 1.0000 - val_loss: 0.9514 - val_accuracy: 0.7456\n",
            "Epoch 26/50\n",
            "43/43 [==============================] - 0s 3ms/step - loss: 0.0078 - accuracy: 1.0000 - val_loss: 0.9513 - val_accuracy: 0.7485\n",
            "Epoch 27/50\n",
            "43/43 [==============================] - 0s 3ms/step - loss: 0.0074 - accuracy: 1.0000 - val_loss: 0.9518 - val_accuracy: 0.7485\n",
            "Epoch 28/50\n",
            "43/43 [==============================] - 0s 3ms/step - loss: 0.0071 - accuracy: 1.0000 - val_loss: 0.9529 - val_accuracy: 0.7485\n",
            "Epoch 29/50\n",
            "43/43 [==============================] - 0s 3ms/step - loss: 0.0068 - accuracy: 1.0000 - val_loss: 0.9538 - val_accuracy: 0.7485\n",
            "Epoch 30/50\n",
            "43/43 [==============================] - 0s 3ms/step - loss: 0.0065 - accuracy: 1.0000 - val_loss: 0.9542 - val_accuracy: 0.7485\n",
            "Epoch 31/50\n",
            "43/43 [==============================] - 0s 3ms/step - loss: 0.0062 - accuracy: 1.0000 - val_loss: 0.9544 - val_accuracy: 0.7485\n",
            "Epoch 32/50\n",
            "43/43 [==============================] - 0s 3ms/step - loss: 0.0059 - accuracy: 1.0000 - val_loss: 0.9549 - val_accuracy: 0.7485\n",
            "Epoch 33/50\n",
            "43/43 [==============================] - 0s 3ms/step - loss: 0.0057 - accuracy: 1.0000 - val_loss: 0.9557 - val_accuracy: 0.7485\n",
            "Epoch 34/50\n",
            "43/43 [==============================] - 0s 3ms/step - loss: 0.0055 - accuracy: 1.0000 - val_loss: 0.9557 - val_accuracy: 0.7485\n",
            "Epoch 35/50\n",
            "43/43 [==============================] - 0s 3ms/step - loss: 0.0053 - accuracy: 1.0000 - val_loss: 0.9560 - val_accuracy: 0.7485\n",
            "Epoch 36/50\n",
            "43/43 [==============================] - 0s 3ms/step - loss: 0.0051 - accuracy: 1.0000 - val_loss: 0.9568 - val_accuracy: 0.7485\n",
            "Epoch 37/50\n",
            "43/43 [==============================] - 0s 3ms/step - loss: 0.0049 - accuracy: 1.0000 - val_loss: 0.9577 - val_accuracy: 0.7485\n",
            "Epoch 38/50\n",
            "43/43 [==============================] - 0s 3ms/step - loss: 0.0048 - accuracy: 1.0000 - val_loss: 0.9579 - val_accuracy: 0.7485\n",
            "Epoch 39/50\n",
            "43/43 [==============================] - 0s 3ms/step - loss: 0.0046 - accuracy: 1.0000 - val_loss: 0.9584 - val_accuracy: 0.7485\n",
            "Epoch 40/50\n",
            "43/43 [==============================] - 0s 3ms/step - loss: 0.0045 - accuracy: 1.0000 - val_loss: 0.9590 - val_accuracy: 0.7485\n",
            "Epoch 41/50\n",
            "43/43 [==============================] - 0s 3ms/step - loss: 0.0043 - accuracy: 1.0000 - val_loss: 0.9595 - val_accuracy: 0.7485\n",
            "Epoch 42/50\n",
            "43/43 [==============================] - 0s 3ms/step - loss: 0.0042 - accuracy: 1.0000 - val_loss: 0.9602 - val_accuracy: 0.7485\n",
            "Epoch 43/50\n",
            "43/43 [==============================] - 0s 4ms/step - loss: 0.0041 - accuracy: 1.0000 - val_loss: 0.9609 - val_accuracy: 0.7485\n",
            "Epoch 44/50\n",
            "43/43 [==============================] - 0s 3ms/step - loss: 0.0040 - accuracy: 1.0000 - val_loss: 0.9617 - val_accuracy: 0.7485\n",
            "Epoch 45/50\n",
            "43/43 [==============================] - 0s 3ms/step - loss: 0.0038 - accuracy: 1.0000 - val_loss: 0.9623 - val_accuracy: 0.7485\n",
            "Epoch 46/50\n",
            "43/43 [==============================] - 0s 3ms/step - loss: 0.0037 - accuracy: 1.0000 - val_loss: 0.9627 - val_accuracy: 0.7485\n",
            "Epoch 47/50\n",
            "43/43 [==============================] - 0s 3ms/step - loss: 0.0036 - accuracy: 1.0000 - val_loss: 0.9633 - val_accuracy: 0.7485\n",
            "Epoch 48/50\n",
            "43/43 [==============================] - 0s 3ms/step - loss: 0.0035 - accuracy: 1.0000 - val_loss: 0.9639 - val_accuracy: 0.7485\n",
            "Epoch 49/50\n",
            "43/43 [==============================] - 0s 3ms/step - loss: 0.0035 - accuracy: 1.0000 - val_loss: 0.9643 - val_accuracy: 0.7456\n",
            "Epoch 50/50\n",
            "43/43 [==============================] - 0s 4ms/step - loss: 0.0034 - accuracy: 1.0000 - val_loss: 0.9648 - val_accuracy: 0.7456\n"
          ]
        }
      ]
    },
    {
      "cell_type": "code",
      "source": [
        "#index i prediction\n",
        "i = 3\n",
        "np.argmax(nn.predict(X_test[i].reshape(-1, window*7))), np.argmax(Y_test[i])"
      ],
      "metadata": {
        "colab": {
          "base_uri": "https://localhost:8080/"
        },
        "id": "W9qE6G6uryN6",
        "outputId": "88e9a0c1-ffb7-423f-9817-3170f9b2d6ba"
      },
      "execution_count": null,
      "outputs": [
        {
          "output_type": "stream",
          "name": "stdout",
          "text": [
            "1/1 [==============================] - 0s 56ms/step\n"
          ]
        },
        {
          "output_type": "execute_result",
          "data": {
            "text/plain": [
              "(0, 0)"
            ]
          },
          "metadata": {},
          "execution_count": 84
        }
      ]
    },
    {
      "cell_type": "code",
      "source": [
        "# visualizing losses and accuracy\n",
        "train_loss = mlp_history.history['loss']\n",
        "val_loss   = mlp_history.history['val_loss']\n",
        "train_acc  = mlp_history.history['accuracy']\n",
        "val_acc    = mlp_history.history['val_accuracy']\n",
        "xc         = range(50)\n",
        "\n",
        "# orange curve is validation\n",
        "plt.figure()\n",
        "plt.title('MLP')\n",
        "plt.ylabel('Loss')\n",
        "plt.xlabel('Epoch')\n",
        "plt.plot(xc, train_loss)\n",
        "plt.plot(xc, val_loss)\n",
        "plt.legend(['train_loss', 'val_loss'])\n",
        "plt.show()\n",
        "plt.figure()\n",
        "plt.title('MLP')\n",
        "plt.ylabel('Accuracy')\n",
        "plt.xlabel('Epoch')\n",
        "plt.plot(xc, train_acc)\n",
        "plt.plot(xc, val_acc)\n",
        "plt.legend(['train_acc', 'val_acc'])\n",
        "plt.show()"
      ],
      "metadata": {
        "colab": {
          "base_uri": "https://localhost:8080/",
          "height": 573
        },
        "id": "yDAeHGqnTAqv",
        "outputId": "aa034f28-90cb-48c1-991e-8629c60b55ea"
      },
      "execution_count": null,
      "outputs": [
        {
          "output_type": "display_data",
          "data": {
            "text/plain": [
              "<Figure size 432x288 with 1 Axes>"
            ],
            "image/png": "[encoded data removed]"
          },
          "metadata": {
            "needs_background": "light"
          }
        },
        {
          "output_type": "display_data",
          "data": {
            "text/plain": [
              "<Figure size 432x288 with 1 Axes>"
            ],
            "image/png": "[encoded data removed]"
          },
          "metadata": {
            "needs_background": "light"
          }
        }
      ]
    },
    {
      "cell_type": "markdown",
      "source": [
        "#LSTM"
      ],
      "metadata": {
        "id": "BtXkxwqdrdbk"
      }
    },
    {
      "cell_type": "code",
      "source": [
        "window = 50\n",
        "slide = 10\n",
        "data_q = deque(maxlen=window)\n",
        "X = []\n",
        "Y = []\n",
        "for i in range(len(df_xy)):\n",
        "    data_q.append(df_xy.iloc[i,:])\n",
        "    if len(data_q) == window and i % slide == 0:\n",
        "        data = np.asarray(data_q)\n",
        "        x = data[:,:7]\n",
        "        scaler = preprocessing.StandardScaler().fit(x)\n",
        "        x = scaler.transform(x)\n",
        "        X.append(x)\n",
        "        l, counts = np.unique(data[:,7], return_counts=True)\n",
        "        y = np.zeros(len(label_dict))\n",
        "        y[label_dict[l[np.argmax(counts)].lower()]] = 1\n",
        "        Y.append(y)\n",
        "    \n",
        "X = np.array(X)\n",
        "Y = np.array(Y)\n",
        "X_train, X_test, Y_train, Y_test = train_test_split(X, Y, test_size = 0.2, random_state = 1)"
      ],
      "metadata": {
        "id": "fCBUohu8YUaX"
      },
      "execution_count": null,
      "outputs": []
    },
    {
      "cell_type": "code",
      "source": [
        "len(X), len(df_xy)"
      ],
      "metadata": {
        "colab": {
          "base_uri": "https://localhost:8080/"
        },
        "id": "YTk-MhQadVMh",
        "outputId": "a60578c8-b968-4539-b12e-7bac34bca8b2"
      },
      "execution_count": null,
      "outputs": [
        {
          "output_type": "execute_result",
          "data": {
            "text/plain": [
              "(1708, 17129)"
            ]
          },
          "metadata": {},
          "execution_count": 87
        }
      ]
    },
    {
      "cell_type": "code",
      "source": [
        "model = Sequential()\n",
        "model.add(LSTM(64, input_shape=(window, 7)))\n",
        "model.add(Dense(32, activation='relu'))\n",
        "model.add(Dense(len(label_dict), activation='softmax'))\n",
        "model.compile(loss='categorical_crossentropy', optimizer='adam', metrics='accuracy')\n",
        "# model_name = \"lstm.hd5\"\n",
        "# savemodel = ModelCheckpoint(model_name)\n",
        "# stopmodel = EarlyStopping(min_delta=0.001, patience=1)\n",
        "lstm_history = model.fit(X_train, Y_train, shuffle = True, epochs = 50, validation_data = (X_test, Y_test))\n",
        "model.save(\"lstm.hd5\")"
      ],
      "metadata": {
        "id": "l-eaY2AZV7Pg",
        "colab": {
          "base_uri": "https://localhost:8080/"
        },
        "outputId": "28b8c1fb-8ec8-4b21-9ff5-9877478956a4"
      },
      "execution_count": null,
      "outputs": [
        {
          "output_type": "stream",
          "name": "stdout",
          "text": [
            "Epoch 1/50\n",
            "43/43 [==============================] - 5s 45ms/step - loss: 2.1726 - accuracy: 0.3111 - val_loss: 2.0342 - val_accuracy: 0.3480\n",
            "Epoch 2/50\n",
            "43/43 [==============================] - 1s 29ms/step - loss: 1.6946 - accuracy: 0.4187 - val_loss: 1.8114 - val_accuracy: 0.4327\n",
            "Epoch 3/50\n",
            "43/43 [==============================] - 1s 28ms/step - loss: 1.4856 - accuracy: 0.4898 - val_loss: 1.4973 - val_accuracy: 0.4649\n",
            "Epoch 4/50\n",
            "43/43 [==============================] - 1s 28ms/step - loss: 1.3276 - accuracy: 0.5183 - val_loss: 1.3649 - val_accuracy: 0.4854\n",
            "Epoch 5/50\n",
            "43/43 [==============================] - 1s 29ms/step - loss: 1.1080 - accuracy: 0.6025 - val_loss: 1.1245 - val_accuracy: 0.5994\n",
            "Epoch 6/50\n",
            "43/43 [==============================] - 1s 28ms/step - loss: 0.8933 - accuracy: 0.6867 - val_loss: 1.0246 - val_accuracy: 0.6608\n",
            "Epoch 7/50\n",
            "43/43 [==============================] - 1s 29ms/step - loss: 0.7829 - accuracy: 0.7357 - val_loss: 0.8156 - val_accuracy: 0.7018\n",
            "Epoch 8/50\n",
            "43/43 [==============================] - 1s 27ms/step - loss: 0.5989 - accuracy: 0.8192 - val_loss: 0.6622 - val_accuracy: 0.7632\n",
            "Epoch 9/50\n",
            "43/43 [==============================] - 1s 27ms/step - loss: 0.5059 - accuracy: 0.8382 - val_loss: 0.5944 - val_accuracy: 0.7865\n",
            "Epoch 10/50\n",
            "43/43 [==============================] - 1s 28ms/step - loss: 0.4060 - accuracy: 0.8594 - val_loss: 0.3725 - val_accuracy: 0.8713\n",
            "Epoch 11/50\n",
            "43/43 [==============================] - 1s 28ms/step - loss: 0.2789 - accuracy: 0.9063 - val_loss: 0.3707 - val_accuracy: 0.8626\n",
            "Epoch 12/50\n",
            "43/43 [==============================] - 1s 28ms/step - loss: 0.2312 - accuracy: 0.9290 - val_loss: 0.5727 - val_accuracy: 0.8392\n",
            "Epoch 13/50\n",
            "43/43 [==============================] - 1s 29ms/step - loss: 0.2875 - accuracy: 0.9078 - val_loss: 0.3324 - val_accuracy: 0.8947\n",
            "Epoch 14/50\n",
            "43/43 [==============================] - 1s 28ms/step - loss: 0.1967 - accuracy: 0.9341 - val_loss: 0.2446 - val_accuracy: 0.9181\n",
            "Epoch 15/50\n",
            "43/43 [==============================] - 1s 29ms/step - loss: 0.1368 - accuracy: 0.9546 - val_loss: 0.1936 - val_accuracy: 0.9561\n",
            "Epoch 16/50\n",
            "43/43 [==============================] - 1s 28ms/step - loss: 0.1012 - accuracy: 0.9634 - val_loss: 0.1333 - val_accuracy: 0.9591\n",
            "Epoch 17/50\n",
            "43/43 [==============================] - 1s 30ms/step - loss: 0.0969 - accuracy: 0.9678 - val_loss: 0.1759 - val_accuracy: 0.9532\n",
            "Epoch 18/50\n",
            "43/43 [==============================] - 2s 44ms/step - loss: 0.0978 - accuracy: 0.9788 - val_loss: 0.1682 - val_accuracy: 0.9532\n",
            "Epoch 19/50\n",
            "43/43 [==============================] - 2s 40ms/step - loss: 0.0763 - accuracy: 0.9780 - val_loss: 0.1546 - val_accuracy: 0.9561\n",
            "Epoch 20/50\n",
            "43/43 [==============================] - 1s 27ms/step - loss: 0.0749 - accuracy: 0.9846 - val_loss: 0.2715 - val_accuracy: 0.9240\n",
            "Epoch 21/50\n",
            "43/43 [==============================] - 1s 28ms/step - loss: 0.0587 - accuracy: 0.9883 - val_loss: 0.1746 - val_accuracy: 0.9678\n",
            "Epoch 22/50\n",
            "43/43 [==============================] - 1s 27ms/step - loss: 0.0463 - accuracy: 0.9919 - val_loss: 0.1719 - val_accuracy: 0.9737\n",
            "Epoch 23/50\n",
            "43/43 [==============================] - 1s 28ms/step - loss: 0.0284 - accuracy: 0.9971 - val_loss: 0.1589 - val_accuracy: 0.9737\n",
            "Epoch 24/50\n",
            "43/43 [==============================] - 1s 28ms/step - loss: 0.0174 - accuracy: 0.9978 - val_loss: 0.1603 - val_accuracy: 0.9766\n",
            "Epoch 25/50\n",
            "43/43 [==============================] - 1s 28ms/step - loss: 0.0131 - accuracy: 0.9993 - val_loss: 0.1275 - val_accuracy: 0.9766\n",
            "Epoch 26/50\n",
            "43/43 [==============================] - 1s 27ms/step - loss: 0.0111 - accuracy: 1.0000 - val_loss: 0.1771 - val_accuracy: 0.9766\n",
            "Epoch 27/50\n",
            "43/43 [==============================] - 1s 28ms/step - loss: 0.0444 - accuracy: 0.9876 - val_loss: 0.1860 - val_accuracy: 0.9386\n",
            "Epoch 28/50\n",
            "43/43 [==============================] - 1s 27ms/step - loss: 0.0648 - accuracy: 0.9854 - val_loss: 0.1686 - val_accuracy: 0.9766\n",
            "Epoch 29/50\n",
            "43/43 [==============================] - 1s 28ms/step - loss: 0.0259 - accuracy: 0.9941 - val_loss: 0.1984 - val_accuracy: 0.9591\n",
            "Epoch 30/50\n",
            "43/43 [==============================] - 1s 31ms/step - loss: 0.1355 - accuracy: 0.9700 - val_loss: 0.2045 - val_accuracy: 0.9327\n",
            "Epoch 31/50\n",
            "43/43 [==============================] - 1s 30ms/step - loss: 0.1106 - accuracy: 0.9729 - val_loss: 0.1581 - val_accuracy: 0.9561\n",
            "Epoch 32/50\n",
            "43/43 [==============================] - 1s 29ms/step - loss: 0.0362 - accuracy: 0.9919 - val_loss: 0.0946 - val_accuracy: 0.9795\n",
            "Epoch 33/50\n",
            "43/43 [==============================] - 1s 29ms/step - loss: 0.0134 - accuracy: 0.9985 - val_loss: 0.0894 - val_accuracy: 0.9795\n",
            "Epoch 34/50\n",
            "43/43 [==============================] - 1s 28ms/step - loss: 0.0080 - accuracy: 0.9993 - val_loss: 0.0805 - val_accuracy: 0.9795\n",
            "Epoch 35/50\n",
            "43/43 [==============================] - 1s 30ms/step - loss: 0.0061 - accuracy: 1.0000 - val_loss: 0.0678 - val_accuracy: 0.9825\n",
            "Epoch 36/50\n",
            "43/43 [==============================] - 1s 28ms/step - loss: 0.0046 - accuracy: 1.0000 - val_loss: 0.0799 - val_accuracy: 0.9825\n",
            "Epoch 37/50\n",
            "43/43 [==============================] - 1s 28ms/step - loss: 0.0036 - accuracy: 1.0000 - val_loss: 0.0774 - val_accuracy: 0.9825\n",
            "Epoch 38/50\n",
            "43/43 [==============================] - 1s 29ms/step - loss: 0.0029 - accuracy: 1.0000 - val_loss: 0.0716 - val_accuracy: 0.9825\n",
            "Epoch 39/50\n",
            "43/43 [==============================] - 1s 28ms/step - loss: 0.0025 - accuracy: 1.0000 - val_loss: 0.0787 - val_accuracy: 0.9795\n",
            "Epoch 40/50\n",
            "43/43 [==============================] - 1s 28ms/step - loss: 0.0022 - accuracy: 1.0000 - val_loss: 0.0808 - val_accuracy: 0.9766\n",
            "Epoch 41/50\n",
            "43/43 [==============================] - 1s 28ms/step - loss: 0.0019 - accuracy: 1.0000 - val_loss: 0.0841 - val_accuracy: 0.9766\n",
            "Epoch 42/50\n",
            "43/43 [==============================] - 1s 28ms/step - loss: 0.0017 - accuracy: 1.0000 - val_loss: 0.0851 - val_accuracy: 0.9766\n",
            "Epoch 43/50\n",
            "43/43 [==============================] - 1s 30ms/step - loss: 0.0015 - accuracy: 1.0000 - val_loss: 0.0927 - val_accuracy: 0.9766\n",
            "Epoch 44/50\n",
            "43/43 [==============================] - 1s 28ms/step - loss: 0.0014 - accuracy: 1.0000 - val_loss: 0.0915 - val_accuracy: 0.9766\n",
            "Epoch 45/50\n",
            "43/43 [==============================] - 1s 30ms/step - loss: 0.0012 - accuracy: 1.0000 - val_loss: 0.0949 - val_accuracy: 0.9766\n",
            "Epoch 46/50\n",
            "43/43 [==============================] - 1s 27ms/step - loss: 0.0012 - accuracy: 1.0000 - val_loss: 0.0947 - val_accuracy: 0.9766\n",
            "Epoch 47/50\n",
            "43/43 [==============================] - 1s 28ms/step - loss: 0.0011 - accuracy: 1.0000 - val_loss: 0.0975 - val_accuracy: 0.9766\n",
            "Epoch 48/50\n",
            "43/43 [==============================] - 1s 29ms/step - loss: 9.8771e-04 - accuracy: 1.0000 - val_loss: 0.0996 - val_accuracy: 0.9766\n",
            "Epoch 49/50\n",
            "43/43 [==============================] - 1s 28ms/step - loss: 9.1297e-04 - accuracy: 1.0000 - val_loss: 0.1000 - val_accuracy: 0.9795\n",
            "Epoch 50/50\n",
            "43/43 [==============================] - 1s 27ms/step - loss: 8.4398e-04 - accuracy: 1.0000 - val_loss: 0.1016 - val_accuracy: 0.9795\n"
          ]
        }
      ]
    },
    {
      "cell_type": "code",
      "source": [
        "#index i prediction\n",
        "i = 50\n",
        "np.argmax(model.predict(np.expand_dims(X_test[i], axis=0), verbose=False)), np.argmax(Y_test[i])"
      ],
      "metadata": {
        "colab": {
          "base_uri": "https://localhost:8080/"
        },
        "id": "O4S4Ofa6sdnp",
        "outputId": "8c7482ef-9ef6-471d-f450-a195a47a41af"
      },
      "execution_count": null,
      "outputs": [
        {
          "output_type": "execute_result",
          "data": {
            "text/plain": [
              "(7, 7)"
            ]
          },
          "metadata": {},
          "execution_count": 89
        }
      ]
    },
    {
      "cell_type": "code",
      "source": [
        "# visualizing losses and accuracy\n",
        "train_loss = lstm_history.history['loss']\n",
        "val_loss   = lstm_history.history['val_loss']\n",
        "train_acc  = lstm_history.history['accuracy']\n",
        "val_acc    = lstm_history.history['val_accuracy']\n",
        "xc         = range(50)\n",
        "\n",
        "# orange curve is validation\n",
        "plt.figure()\n",
        "plt.title('LSTM')\n",
        "plt.ylabel('Loss')\n",
        "plt.xlabel('Epoch')\n",
        "plt.plot(xc, train_loss)\n",
        "plt.plot(xc, val_loss)\n",
        "plt.legend(['train_loss', 'val_loss'])\n",
        "plt.show()\n",
        "plt.figure()\n",
        "plt.title('LSTM')\n",
        "plt.ylabel('Accuracy')\n",
        "plt.xlabel('Epoch')\n",
        "plt.plot(xc, train_acc)\n",
        "plt.plot(xc, val_acc)\n",
        "plt.legend(['train_acc', 'val_acc'])\n",
        "plt.show()"
      ],
      "metadata": {
        "colab": {
          "base_uri": "https://localhost:8080/",
          "height": 573
        },
        "id": "OIuPktWBT8gu",
        "outputId": "badb93ec-0be8-403c-c36c-ecac7398e6fd"
      },
      "execution_count": null,
      "outputs": [
        {
          "output_type": "display_data",
          "data": {
            "text/plain": [
              "<Figure size 432x288 with 1 Axes>"
            ],
            "image/png": "[encoded data removed]"
          },
          "metadata": {
            "needs_background": "light"
          }
        },
        {
          "output_type": "display_data",
          "data": {
            "text/plain": [
              "<Figure size 432x288 with 1 Axes>"
            ],
            "image/png": "[encoded data removed]"
          },
          "metadata": {
            "needs_background": "light"
          }
        }
      ]
    },
    {
      "cell_type": "code",
      "source": [
        "!zip -r lstm.hd5.zip lstm.hd5/"
      ],
      "metadata": {
        "colab": {
          "base_uri": "https://localhost:8080/"
        },
        "id": "tORpOhaBeH01",
        "outputId": "c831980a-9197-4395-ed7b-f555c66b5db5"
      },
      "execution_count": null,
      "outputs": [
        {
          "output_type": "stream",
          "name": "stdout",
          "text": [
            "  adding: lstm.hd5/ (stored 0%)\n",
            "  adding: lstm.hd5/keras_metadata.pb (deflated 88%)\n",
            "  adding: lstm.hd5/assets/ (stored 0%)\n",
            "  adding: lstm.hd5/variables/ (stored 0%)\n",
            "  adding: lstm.hd5/variables/variables.data-00000-of-00001 (deflated 8%)\n",
            "  adding: lstm.hd5/variables/variables.index (deflated 62%)\n",
            "  adding: lstm.hd5/saved_model.pb (deflated 90%)\n"
          ]
        }
      ]
    },
    {
      "cell_type": "code",
      "source": [
        "from tensorflow import keras\n",
        "model = keras.models.load_model('lstm.hd5')"
      ],
      "metadata": {
        "id": "4fq4KGuQkLfq"
      },
      "execution_count": null,
      "outputs": []
    },
    {
      "cell_type": "code",
      "source": [
        "test_df = pd.read_csv('bicep_curl_data.csv')"
      ],
      "metadata": {
        "id": "RGF0K4SElwgv"
      },
      "execution_count": null,
      "outputs": []
    },
    {
      "cell_type": "code",
      "source": [
        "data_q = deque(maxlen=window)\n",
        "Xt = []\n",
        "for i in range(len(test_df)):\n",
        "    data_q.append(test_df.iloc[i,:])\n",
        "    if len(data_q) == window and i % slide == 0:\n",
        "        data = np.asarray(data_q)\n",
        "        x = data[:,:7]\n",
        "        scaler = preprocessing.StandardScaler().fit(x)\n",
        "        x = scaler.transform(x)\n",
        "        Xt.append(x)"
      ],
      "metadata": {
        "id": "qQOg9IOnqGcw"
      },
      "execution_count": null,
      "outputs": []
    },
    {
      "cell_type": "code",
      "source": [
        "Yt = []\n",
        "for i in range(len(Xt)):\n",
        "    yt = np.argmax(model.predict(np.expand_dims(Xt[i], axis=0), verbose=False))\n",
        "    Yt.append(yt)"
      ],
      "metadata": {
        "id": "KPY9i9_VqVBj"
      },
      "execution_count": null,
      "outputs": []
    },
    {
      "cell_type": "code",
      "source": [
        "unique, counts = np.unique(Yt, return_counts=True)\n",
        "for i, u in enumerate(unique):\n",
        "    for key, value in label_dict.items():\n",
        "        if u == value:\n",
        "            print(f\"{u} {key}: {counts[i]}\")"
      ],
      "metadata": {
        "colab": {
          "base_uri": "https://localhost:8080/"
        },
        "id": "nRUBzCZJq_CX",
        "outputId": "1f59cc47-eb5b-49b9-b11d-3dac131e49d0"
      },
      "execution_count": null,
      "outputs": [
        {
          "output_type": "stream",
          "name": "stdout",
          "text": [
            "0 idle: 18\n",
            "1 upper body: 31\n"
          ]
        }
      ]
    },
    {
      "cell_type": "code",
      "source": [],
      "metadata": {
        "id": "n-6Dx82PrcGs"
      },
      "execution_count": null,
      "outputs": []
    }
  ]
}