{
 "cells": [
  {
   "cell_type": "markdown",
   "id": "a66690c2",
   "metadata": {},
   "source": [
    "# Dataset Description "
   ]
  },
  {
   "cell_type": "markdown",
   "id": "d8e141b5",
   "metadata": {},
   "source": []
  },
  {
   "cell_type": "markdown",
   "id": "7b21c6ff",
   "metadata": {},
   "source": [
    "### Importing Neccessary Libraries "
   ]
  },
  {
   "cell_type": "code",
   "execution_count": 1,
   "id": "28368390",
   "metadata": {},
   "outputs": [],
   "source": [
    "import numpy as np\n",
    "import pandas as pd\n",
    "import matplotlib.pyplot as plt\n",
    "from sklearn.neighbors import KNeighborsClassifier\n",
    "from sklearn.naive_bayes import GaussianNB\n",
    "from sklearn.tree import DecisionTreeClassifier\n",
    "from sklearn.svm import SVC\n",
    "from tensorflow.keras.utils import to_categorical\n",
    "from keras.callbacks import EarlyStopping\n",
    "from sklearn.model_selection import train_test_split\n",
    "from keras.models import Sequential\n",
    "from keras.layers import Dense, Dropout\n",
    "from sklearn.preprocessing import LabelEncoder"
   ]
  },
  {
   "cell_type": "markdown",
   "id": "f7608062",
   "metadata": {},
   "source": [
    "### Loading Data "
   ]
  },
  {
   "cell_type": "code",
   "execution_count": 2,
   "id": "fe38b27c",
   "metadata": {},
   "outputs": [
    {
     "data": {
      "text/html": [
       "<div>\n",
       "<style scoped>\n",
       "    .dataframe tbody tr th:only-of-type {\n",
       "        vertical-align: middle;\n",
       "    }\n",
       "\n",
       "    .dataframe tbody tr th {\n",
       "        vertical-align: top;\n",
       "    }\n",
       "\n",
       "    .dataframe thead th {\n",
       "        text-align: right;\n",
       "    }\n",
       "</style>\n",
       "<table border=\"1\" class=\"dataframe\">\n",
       "  <thead>\n",
       "    <tr style=\"text-align: right;\">\n",
       "      <th></th>\n",
       "      <th>timestamp</th>\n",
       "      <th>gyroscope-x</th>\n",
       "      <th>gyroscope-y</th>\n",
       "      <th>gyroscope-z</th>\n",
       "      <th>accelorometer-x</th>\n",
       "      <th>accelorometer-y</th>\n",
       "      <th>accelorometer-z</th>\n",
       "      <th>resultant-g</th>\n",
       "      <th>label</th>\n",
       "    </tr>\n",
       "  </thead>\n",
       "  <tbody>\n",
       "    <tr>\n",
       "      <th>0</th>\n",
       "      <td>1667300650</td>\n",
       "      <td>-0.32</td>\n",
       "      <td>0.71</td>\n",
       "      <td>-0.30</td>\n",
       "      <td>0.00</td>\n",
       "      <td>0.00</td>\n",
       "      <td>1.00</td>\n",
       "      <td>1.00</td>\n",
       "      <td>Normal</td>\n",
       "    </tr>\n",
       "    <tr>\n",
       "      <th>1</th>\n",
       "      <td>1667300650</td>\n",
       "      <td>-0.23</td>\n",
       "      <td>0.46</td>\n",
       "      <td>-0.25</td>\n",
       "      <td>0.00</td>\n",
       "      <td>0.00</td>\n",
       "      <td>1.00</td>\n",
       "      <td>1.00</td>\n",
       "      <td>Normal</td>\n",
       "    </tr>\n",
       "    <tr>\n",
       "      <th>2</th>\n",
       "      <td>1667300650</td>\n",
       "      <td>-0.35</td>\n",
       "      <td>-0.08</td>\n",
       "      <td>-0.34</td>\n",
       "      <td>0.00</td>\n",
       "      <td>0.00</td>\n",
       "      <td>1.00</td>\n",
       "      <td>1.00</td>\n",
       "      <td>Normal</td>\n",
       "    </tr>\n",
       "    <tr>\n",
       "      <th>3</th>\n",
       "      <td>1667300651</td>\n",
       "      <td>0.18</td>\n",
       "      <td>0.05</td>\n",
       "      <td>-0.28</td>\n",
       "      <td>0.00</td>\n",
       "      <td>0.00</td>\n",
       "      <td>1.00</td>\n",
       "      <td>1.00</td>\n",
       "      <td>Normal</td>\n",
       "    </tr>\n",
       "    <tr>\n",
       "      <th>4</th>\n",
       "      <td>1667300651</td>\n",
       "      <td>-0.10</td>\n",
       "      <td>-0.57</td>\n",
       "      <td>-0.31</td>\n",
       "      <td>-0.01</td>\n",
       "      <td>0.00</td>\n",
       "      <td>0.99</td>\n",
       "      <td>0.99</td>\n",
       "      <td>Normal</td>\n",
       "    </tr>\n",
       "    <tr>\n",
       "      <th>...</th>\n",
       "      <td>...</td>\n",
       "      <td>...</td>\n",
       "      <td>...</td>\n",
       "      <td>...</td>\n",
       "      <td>...</td>\n",
       "      <td>...</td>\n",
       "      <td>...</td>\n",
       "      <td>...</td>\n",
       "      <td>...</td>\n",
       "    </tr>\n",
       "    <tr>\n",
       "      <th>4749</th>\n",
       "      <td>1667305643</td>\n",
       "      <td>12.32</td>\n",
       "      <td>-4.51</td>\n",
       "      <td>-26.59</td>\n",
       "      <td>0.59</td>\n",
       "      <td>-0.72</td>\n",
       "      <td>2.01</td>\n",
       "      <td>2.22</td>\n",
       "      <td>Fall</td>\n",
       "    </tr>\n",
       "    <tr>\n",
       "      <th>4750</th>\n",
       "      <td>1667305643</td>\n",
       "      <td>9.37</td>\n",
       "      <td>0.82</td>\n",
       "      <td>1.76</td>\n",
       "      <td>0.64</td>\n",
       "      <td>-0.66</td>\n",
       "      <td>1.99</td>\n",
       "      <td>2.19</td>\n",
       "      <td>Fall</td>\n",
       "    </tr>\n",
       "    <tr>\n",
       "      <th>4751</th>\n",
       "      <td>1667305643</td>\n",
       "      <td>2.45</td>\n",
       "      <td>-19.76</td>\n",
       "      <td>-13.12</td>\n",
       "      <td>0.56</td>\n",
       "      <td>-0.71</td>\n",
       "      <td>1.91</td>\n",
       "      <td>2.11</td>\n",
       "      <td>Fall</td>\n",
       "    </tr>\n",
       "    <tr>\n",
       "      <th>4752</th>\n",
       "      <td>1667305644</td>\n",
       "      <td>7.51</td>\n",
       "      <td>-3.51</td>\n",
       "      <td>-46.01</td>\n",
       "      <td>0.65</td>\n",
       "      <td>-0.79</td>\n",
       "      <td>1.88</td>\n",
       "      <td>2.14</td>\n",
       "      <td>Fall</td>\n",
       "    </tr>\n",
       "    <tr>\n",
       "      <th>4753</th>\n",
       "      <td>1667305644</td>\n",
       "      <td>15.34</td>\n",
       "      <td>-17.63</td>\n",
       "      <td>-4.17</td>\n",
       "      <td>0.64</td>\n",
       "      <td>-0.53</td>\n",
       "      <td>1.85</td>\n",
       "      <td>2.03</td>\n",
       "      <td>Fall</td>\n",
       "    </tr>\n",
       "  </tbody>\n",
       "</table>\n",
       "<p>4754 rows × 9 columns</p>\n",
       "</div>"
      ],
      "text/plain": [
       "       timestamp  gyroscope-x  gyroscope-y  gyroscope-z  accelorometer-x  \\\n",
       "0     1667300650        -0.32         0.71        -0.30             0.00   \n",
       "1     1667300650        -0.23         0.46        -0.25             0.00   \n",
       "2     1667300650        -0.35        -0.08        -0.34             0.00   \n",
       "3     1667300651         0.18         0.05        -0.28             0.00   \n",
       "4     1667300651        -0.10        -0.57        -0.31            -0.01   \n",
       "...          ...          ...          ...          ...              ...   \n",
       "4749  1667305643        12.32        -4.51       -26.59             0.59   \n",
       "4750  1667305643         9.37         0.82         1.76             0.64   \n",
       "4751  1667305643         2.45       -19.76       -13.12             0.56   \n",
       "4752  1667305644         7.51        -3.51       -46.01             0.65   \n",
       "4753  1667305644        15.34       -17.63        -4.17             0.64   \n",
       "\n",
       "      accelorometer-y  accelorometer-z  resultant-g   label  \n",
       "0                0.00             1.00         1.00  Normal  \n",
       "1                0.00             1.00         1.00  Normal  \n",
       "2                0.00             1.00         1.00  Normal  \n",
       "3                0.00             1.00         1.00  Normal  \n",
       "4                0.00             0.99         0.99  Normal  \n",
       "...               ...              ...          ...     ...  \n",
       "4749            -0.72             2.01         2.22    Fall  \n",
       "4750            -0.66             1.99         2.19    Fall  \n",
       "4751            -0.71             1.91         2.11    Fall  \n",
       "4752            -0.79             1.88         2.14    Fall  \n",
       "4753            -0.53             1.85         2.03    Fall  \n",
       "\n",
       "[4754 rows x 9 columns]"
      ]
     },
     "execution_count": 2,
     "metadata": {},
     "output_type": "execute_result"
    }
   ],
   "source": [
    "fall_detect_dataset = pd.read_csv('fall_detection_data.csv', on_bad_lines='skip')\n",
    "fall_detect_dataset.drop(fall_detect_dataset.iloc[:, 9:],axis = 1, inplace=True)\n",
    "fall_detect_dataset"
   ]
  },
  {
   "cell_type": "markdown",
   "id": "e0983f86",
   "metadata": {},
   "source": [
    "### Seperating dataset into features and targets "
   ]
  },
  {
   "cell_type": "code",
   "execution_count": 3,
   "id": "dc58b0a6",
   "metadata": {},
   "outputs": [
    {
     "name": "stdout",
     "output_type": "stream",
     "text": [
      "[[ -0.32   0.71  -0.3  ...   0.     1.     1.  ]\n",
      " [ -0.23   0.46  -0.25 ...   0.     1.     1.  ]\n",
      " [ -0.35  -0.08  -0.34 ...   0.     1.     1.  ]\n",
      " ...\n",
      " [  2.45 -19.76 -13.12 ...  -0.71   1.91   2.11]\n",
      " [  7.51  -3.51 -46.01 ...  -0.79   1.88   2.14]\n",
      " [ 15.34 -17.63  -4.17 ...  -0.53   1.85   2.03]]\n",
      "(4754, 7)\n",
      "['Normal' 'Normal' 'Normal' ... 'Fall' 'Fall' 'Fall']\n",
      "(4754,)\n"
     ]
    }
   ],
   "source": [
    "fall_detect_dataset.drop(columns=['timestamp'], axis=1, inplace=True)\n",
    "features = fall_detect_dataset.iloc[:,:-1].values\n",
    "targets = fall_detect_dataset.iloc[:,-1].values\n",
    "print(features)\n",
    "print(features.shape)\n",
    "print(targets)\n",
    "print(targets.shape)"
   ]
  },
  {
   "cell_type": "markdown",
   "id": "25a673c7",
   "metadata": {},
   "source": [
    "### KNN Classifier"
   ]
  },
  {
   "cell_type": "code",
   "execution_count": 4,
   "id": "72a33224",
   "metadata": {},
   "outputs": [],
   "source": [
    "knn_classifier = KNeighborsClassifier(weights='distance', algorithm='ball_tree')\n",
    "x_train, x_test, y_train, y_test = train_test_split(features, targets, test_size=0.3, shuffle=True)\n",
    "for i in range(100):\n",
    "    knn_classifier.fit(x_train, y_train)"
   ]
  },
  {
   "cell_type": "code",
   "execution_count": 5,
   "id": "4a60fcd6",
   "metadata": {},
   "outputs": [
    {
     "name": "stdout",
     "output_type": "stream",
     "text": [
      "              precision    recall  f1-score   support\n",
      "\n",
      "        Fall       0.77      0.79      0.78       903\n",
      "      Normal       0.62      0.59      0.60       524\n",
      "\n",
      "    accuracy                           0.71      1427\n",
      "   macro avg       0.69      0.69      0.69      1427\n",
      "weighted avg       0.71      0.71      0.71      1427\n",
      "\n"
     ]
    }
   ],
   "source": [
    "from sklearn.metrics import classification_report\n",
    "y_pred = knn_classifier.predict(x_test)\n",
    "print(classification_report(y_test, y_pred))"
   ]
  },
  {
   "cell_type": "markdown",
   "id": "f006b60d",
   "metadata": {},
   "source": [
    "### Gaussian Naive Bayes Classifier"
   ]
  },
  {
   "cell_type": "code",
   "execution_count": 6,
   "id": "d8d0fc6b",
   "metadata": {},
   "outputs": [],
   "source": [
    "gaussian_nb_classifier = GaussianNB()\n",
    "for i in range(100):\n",
    "    gaussian_nb_classifier.fit(x_train, y_train)"
   ]
  },
  {
   "cell_type": "code",
   "execution_count": 7,
   "id": "bcbddc7d",
   "metadata": {},
   "outputs": [
    {
     "name": "stdout",
     "output_type": "stream",
     "text": [
      "              precision    recall  f1-score   support\n",
      "\n",
      "        Fall       0.90      0.84      0.87       903\n",
      "      Normal       0.76      0.83      0.79       524\n",
      "\n",
      "    accuracy                           0.84      1427\n",
      "   macro avg       0.83      0.84      0.83      1427\n",
      "weighted avg       0.84      0.84      0.84      1427\n",
      "\n"
     ]
    }
   ],
   "source": [
    "y_pred = gaussian_nb_classifier.predict(x_test)\n",
    "print(classification_report(y_test, y_pred))"
   ]
  },
  {
   "cell_type": "markdown",
   "id": "1d682a68",
   "metadata": {},
   "source": [
    "### Decision Tree Classifier"
   ]
  },
  {
   "cell_type": "code",
   "execution_count": 8,
   "id": "4275ae9e",
   "metadata": {},
   "outputs": [
    {
     "data": {
      "text/html": [
       "<style>#sk-container-id-1 {color: black;background-color: white;}#sk-container-id-1 pre{padding: 0;}#sk-container-id-1 div.sk-toggleable {background-color: white;}#sk-container-id-1 label.sk-toggleable__label {cursor: pointer;display: block;width: 100%;margin-bottom: 0;padding: 0.3em;box-sizing: border-box;text-align: center;}#sk-container-id-1 label.sk-toggleable__label-arrow:before {content: \"▸\";float: left;margin-right: 0.25em;color: #696969;}#sk-container-id-1 label.sk-toggleable__label-arrow:hover:before {color: black;}#sk-container-id-1 div.sk-estimator:hover label.sk-toggleable__label-arrow:before {color: black;}#sk-container-id-1 div.sk-toggleable__content {max-height: 0;max-width: 0;overflow: hidden;text-align: left;background-color: #f0f8ff;}#sk-container-id-1 div.sk-toggleable__content pre {margin: 0.2em;color: black;border-radius: 0.25em;background-color: #f0f8ff;}#sk-container-id-1 input.sk-toggleable__control:checked~div.sk-toggleable__content {max-height: 200px;max-width: 100%;overflow: auto;}#sk-container-id-1 input.sk-toggleable__control:checked~label.sk-toggleable__label-arrow:before {content: \"▾\";}#sk-container-id-1 div.sk-estimator input.sk-toggleable__control:checked~label.sk-toggleable__label {background-color: #d4ebff;}#sk-container-id-1 div.sk-label input.sk-toggleable__control:checked~label.sk-toggleable__label {background-color: #d4ebff;}#sk-container-id-1 input.sk-hidden--visually {border: 0;clip: rect(1px 1px 1px 1px);clip: rect(1px, 1px, 1px, 1px);height: 1px;margin: -1px;overflow: hidden;padding: 0;position: absolute;width: 1px;}#sk-container-id-1 div.sk-estimator {font-family: monospace;background-color: #f0f8ff;border: 1px dotted black;border-radius: 0.25em;box-sizing: border-box;margin-bottom: 0.5em;}#sk-container-id-1 div.sk-estimator:hover {background-color: #d4ebff;}#sk-container-id-1 div.sk-parallel-item::after {content: \"\";width: 100%;border-bottom: 1px solid gray;flex-grow: 1;}#sk-container-id-1 div.sk-label:hover label.sk-toggleable__label {background-color: #d4ebff;}#sk-container-id-1 div.sk-serial::before {content: \"\";position: absolute;border-left: 1px solid gray;box-sizing: border-box;top: 0;bottom: 0;left: 50%;z-index: 0;}#sk-container-id-1 div.sk-serial {display: flex;flex-direction: column;align-items: center;background-color: white;padding-right: 0.2em;padding-left: 0.2em;position: relative;}#sk-container-id-1 div.sk-item {position: relative;z-index: 1;}#sk-container-id-1 div.sk-parallel {display: flex;align-items: stretch;justify-content: center;background-color: white;position: relative;}#sk-container-id-1 div.sk-item::before, #sk-container-id-1 div.sk-parallel-item::before {content: \"\";position: absolute;border-left: 1px solid gray;box-sizing: border-box;top: 0;bottom: 0;left: 50%;z-index: -1;}#sk-container-id-1 div.sk-parallel-item {display: flex;flex-direction: column;z-index: 1;position: relative;background-color: white;}#sk-container-id-1 div.sk-parallel-item:first-child::after {align-self: flex-end;width: 50%;}#sk-container-id-1 div.sk-parallel-item:last-child::after {align-self: flex-start;width: 50%;}#sk-container-id-1 div.sk-parallel-item:only-child::after {width: 0;}#sk-container-id-1 div.sk-dashed-wrapped {border: 1px dashed gray;margin: 0 0.4em 0.5em 0.4em;box-sizing: border-box;padding-bottom: 0.4em;background-color: white;}#sk-container-id-1 div.sk-label label {font-family: monospace;font-weight: bold;display: inline-block;line-height: 1.2em;}#sk-container-id-1 div.sk-label-container {text-align: center;}#sk-container-id-1 div.sk-container {/* jupyter's `normalize.less` sets `[hidden] { display: none; }` but bootstrap.min.css set `[hidden] { display: none !important; }` so we also need the `!important` here to be able to override the default hidden behavior on the sphinx rendered scikit-learn.org. See: https://github.com/scikit-learn/scikit-learn/issues/21755 */display: inline-block !important;position: relative;}#sk-container-id-1 div.sk-text-repr-fallback {display: none;}</style><div id=\"sk-container-id-1\" class=\"sk-top-container\"><div class=\"sk-text-repr-fallback\"><pre>DecisionTreeClassifier(criterion=&#x27;entropy&#x27;, max_depth=4)</pre><b>In a Jupyter environment, please rerun this cell to show the HTML representation or trust the notebook. <br />On GitHub, the HTML representation is unable to render, please try loading this page with nbviewer.org.</b></div><div class=\"sk-container\" hidden><div class=\"sk-item\"><div class=\"sk-estimator sk-toggleable\"><input class=\"sk-toggleable__control sk-hidden--visually\" id=\"sk-estimator-id-1\" type=\"checkbox\" checked><label for=\"sk-estimator-id-1\" class=\"sk-toggleable__label sk-toggleable__label-arrow\">DecisionTreeClassifier</label><div class=\"sk-toggleable__content\"><pre>DecisionTreeClassifier(criterion=&#x27;entropy&#x27;, max_depth=4)</pre></div></div></div></div></div>"
      ],
      "text/plain": [
       "DecisionTreeClassifier(criterion='entropy', max_depth=4)"
      ]
     },
     "execution_count": 8,
     "metadata": {},
     "output_type": "execute_result"
    }
   ],
   "source": [
    "decision_tree_classifier = DecisionTreeClassifier(criterion='entropy', max_depth=4)\n",
    "decision_tree_classifier.fit(x_train, y_train)"
   ]
  },
  {
   "cell_type": "code",
   "execution_count": 9,
   "id": "ae2dfa94",
   "metadata": {},
   "outputs": [
    {
     "name": "stdout",
     "output_type": "stream",
     "text": [
      "              precision    recall  f1-score   support\n",
      "\n",
      "        Fall       0.91      0.82      0.86       903\n",
      "      Normal       0.74      0.85      0.79       524\n",
      "\n",
      "    accuracy                           0.83      1427\n",
      "   macro avg       0.82      0.84      0.83      1427\n",
      "weighted avg       0.84      0.83      0.84      1427\n",
      "\n"
     ]
    }
   ],
   "source": [
    "y_pred = decision_tree_classifier.predict(x_test)\n",
    "print(classification_report(y_test, y_pred))"
   ]
  },
  {
   "cell_type": "markdown",
   "id": "eb08f18d",
   "metadata": {},
   "source": [
    "### Support Vector Machine Classifier "
   ]
  },
  {
   "cell_type": "code",
   "execution_count": 10,
   "id": "5bff5d26",
   "metadata": {},
   "outputs": [
    {
     "data": {
      "text/html": [
       "<style>#sk-container-id-2 {color: black;background-color: white;}#sk-container-id-2 pre{padding: 0;}#sk-container-id-2 div.sk-toggleable {background-color: white;}#sk-container-id-2 label.sk-toggleable__label {cursor: pointer;display: block;width: 100%;margin-bottom: 0;padding: 0.3em;box-sizing: border-box;text-align: center;}#sk-container-id-2 label.sk-toggleable__label-arrow:before {content: \"▸\";float: left;margin-right: 0.25em;color: #696969;}#sk-container-id-2 label.sk-toggleable__label-arrow:hover:before {color: black;}#sk-container-id-2 div.sk-estimator:hover label.sk-toggleable__label-arrow:before {color: black;}#sk-container-id-2 div.sk-toggleable__content {max-height: 0;max-width: 0;overflow: hidden;text-align: left;background-color: #f0f8ff;}#sk-container-id-2 div.sk-toggleable__content pre {margin: 0.2em;color: black;border-radius: 0.25em;background-color: #f0f8ff;}#sk-container-id-2 input.sk-toggleable__control:checked~div.sk-toggleable__content {max-height: 200px;max-width: 100%;overflow: auto;}#sk-container-id-2 input.sk-toggleable__control:checked~label.sk-toggleable__label-arrow:before {content: \"▾\";}#sk-container-id-2 div.sk-estimator input.sk-toggleable__control:checked~label.sk-toggleable__label {background-color: #d4ebff;}#sk-container-id-2 div.sk-label input.sk-toggleable__control:checked~label.sk-toggleable__label {background-color: #d4ebff;}#sk-container-id-2 input.sk-hidden--visually {border: 0;clip: rect(1px 1px 1px 1px);clip: rect(1px, 1px, 1px, 1px);height: 1px;margin: -1px;overflow: hidden;padding: 0;position: absolute;width: 1px;}#sk-container-id-2 div.sk-estimator {font-family: monospace;background-color: #f0f8ff;border: 1px dotted black;border-radius: 0.25em;box-sizing: border-box;margin-bottom: 0.5em;}#sk-container-id-2 div.sk-estimator:hover {background-color: #d4ebff;}#sk-container-id-2 div.sk-parallel-item::after {content: \"\";width: 100%;border-bottom: 1px solid gray;flex-grow: 1;}#sk-container-id-2 div.sk-label:hover label.sk-toggleable__label {background-color: #d4ebff;}#sk-container-id-2 div.sk-serial::before {content: \"\";position: absolute;border-left: 1px solid gray;box-sizing: border-box;top: 0;bottom: 0;left: 50%;z-index: 0;}#sk-container-id-2 div.sk-serial {display: flex;flex-direction: column;align-items: center;background-color: white;padding-right: 0.2em;padding-left: 0.2em;position: relative;}#sk-container-id-2 div.sk-item {position: relative;z-index: 1;}#sk-container-id-2 div.sk-parallel {display: flex;align-items: stretch;justify-content: center;background-color: white;position: relative;}#sk-container-id-2 div.sk-item::before, #sk-container-id-2 div.sk-parallel-item::before {content: \"\";position: absolute;border-left: 1px solid gray;box-sizing: border-box;top: 0;bottom: 0;left: 50%;z-index: -1;}#sk-container-id-2 div.sk-parallel-item {display: flex;flex-direction: column;z-index: 1;position: relative;background-color: white;}#sk-container-id-2 div.sk-parallel-item:first-child::after {align-self: flex-end;width: 50%;}#sk-container-id-2 div.sk-parallel-item:last-child::after {align-self: flex-start;width: 50%;}#sk-container-id-2 div.sk-parallel-item:only-child::after {width: 0;}#sk-container-id-2 div.sk-dashed-wrapped {border: 1px dashed gray;margin: 0 0.4em 0.5em 0.4em;box-sizing: border-box;padding-bottom: 0.4em;background-color: white;}#sk-container-id-2 div.sk-label label {font-family: monospace;font-weight: bold;display: inline-block;line-height: 1.2em;}#sk-container-id-2 div.sk-label-container {text-align: center;}#sk-container-id-2 div.sk-container {/* jupyter's `normalize.less` sets `[hidden] { display: none; }` but bootstrap.min.css set `[hidden] { display: none !important; }` so we also need the `!important` here to be able to override the default hidden behavior on the sphinx rendered scikit-learn.org. See: https://github.com/scikit-learn/scikit-learn/issues/21755 */display: inline-block !important;position: relative;}#sk-container-id-2 div.sk-text-repr-fallback {display: none;}</style><div id=\"sk-container-id-2\" class=\"sk-top-container\"><div class=\"sk-text-repr-fallback\"><pre>SVC(C=10)</pre><b>In a Jupyter environment, please rerun this cell to show the HTML representation or trust the notebook. <br />On GitHub, the HTML representation is unable to render, please try loading this page with nbviewer.org.</b></div><div class=\"sk-container\" hidden><div class=\"sk-item\"><div class=\"sk-estimator sk-toggleable\"><input class=\"sk-toggleable__control sk-hidden--visually\" id=\"sk-estimator-id-2\" type=\"checkbox\" checked><label for=\"sk-estimator-id-2\" class=\"sk-toggleable__label sk-toggleable__label-arrow\">SVC</label><div class=\"sk-toggleable__content\"><pre>SVC(C=10)</pre></div></div></div></div></div>"
      ],
      "text/plain": [
       "SVC(C=10)"
      ]
     },
     "execution_count": 10,
     "metadata": {},
     "output_type": "execute_result"
    }
   ],
   "source": [
    "svm_classifier = SVC(C=10)\n",
    "svm_classifier.fit(x_train, y_train)"
   ]
  },
  {
   "cell_type": "code",
   "execution_count": 11,
   "id": "4e37a083",
   "metadata": {},
   "outputs": [
    {
     "name": "stdout",
     "output_type": "stream",
     "text": [
      "              precision    recall  f1-score   support\n",
      "\n",
      "        Fall       0.79      0.88      0.83       903\n",
      "      Normal       0.74      0.61      0.67       524\n",
      "\n",
      "    accuracy                           0.78      1427\n",
      "   macro avg       0.77      0.74      0.75      1427\n",
      "weighted avg       0.78      0.78      0.77      1427\n",
      "\n"
     ]
    }
   ],
   "source": [
    "y_pred = svm_classifier.predict(x_test)\n",
    "print(classification_report(y_test, y_pred))"
   ]
  },
  {
   "cell_type": "markdown",
   "id": "e2d9f07a",
   "metadata": {},
   "source": [
    "### Neural Network Binary Classifier"
   ]
  },
  {
   "cell_type": "markdown",
   "id": "4749b65f",
   "metadata": {},
   "source": [
    "#### Encoding the labels"
   ]
  },
  {
   "cell_type": "code",
   "execution_count": 12,
   "id": "97871182",
   "metadata": {},
   "outputs": [],
   "source": [
    "label_encoder = LabelEncoder()\n",
    "label_encoder.fit(targets)\n",
    "encoded_targets = label_encoder.transform(targets)"
   ]
  },
  {
   "cell_type": "code",
   "execution_count": 17,
   "id": "b46d18c9",
   "metadata": {},
   "outputs": [
    {
     "name": "stdout",
     "output_type": "stream",
     "text": [
      "[1 1 1 ... 0 0 0]\n",
      "['Normal' 'Normal' 'Normal' ... 'Fall' 'Fall' 'Fall']\n"
     ]
    }
   ],
   "source": [
    "print(encoded_targets)\n",
    "print(targets)"
   ]
  },
  {
   "cell_type": "code",
   "execution_count": null,
   "id": "1cdf2ff9",
   "metadata": {},
   "outputs": [
    {
     "name": "stdout",
     "output_type": "stream",
     "text": [
      "Epoch 1/100\n"
     ]
    },
    {
     "name": "stderr",
     "output_type": "stream",
     "text": [
      "2022-11-04 22:08:21.920947: I tensorflow/core/grappler/optimizers/custom_graph_optimizer_registry.cc:113] Plugin optimizer for device_type GPU is enabled.\n"
     ]
    },
    {
     "name": "stdout",
     "output_type": "stream",
     "text": [
      "298/298 - 1s - loss: 0.6558 - accuracy: 0.6249 - 1s/epoch - 5ms/step\n",
      "Epoch 2/100\n",
      "298/298 - 1s - loss: 0.6442 - accuracy: 0.6273 - 1s/epoch - 4ms/step\n",
      "Epoch 3/100\n",
      "298/298 - 1s - loss: 0.6350 - accuracy: 0.6336 - 1s/epoch - 4ms/step\n",
      "Epoch 4/100\n",
      "298/298 - 1s - loss: 0.6254 - accuracy: 0.6437 - 1s/epoch - 4ms/step\n",
      "Epoch 5/100\n",
      "298/298 - 1s - loss: 0.6150 - accuracy: 0.6540 - 1s/epoch - 4ms/step\n",
      "Epoch 6/100\n",
      "298/298 - 1s - loss: 0.6043 - accuracy: 0.6723 - 1s/epoch - 4ms/step\n",
      "Epoch 7/100\n",
      "298/298 - 1s - loss: 0.5914 - accuracy: 0.6876 - 1s/epoch - 4ms/step\n",
      "Epoch 8/100\n",
      "298/298 - 1s - loss: 0.5751 - accuracy: 0.7059 - 1s/epoch - 4ms/step\n",
      "Epoch 9/100\n",
      "298/298 - 1s - loss: 0.5428 - accuracy: 0.7411 - 1s/epoch - 4ms/step\n",
      "Epoch 10/100\n",
      "298/298 - 1s - loss: 0.4641 - accuracy: 0.8204 - 1s/epoch - 4ms/step\n",
      "Epoch 11/100\n",
      "298/298 - 1s - loss: 0.4176 - accuracy: 0.8410 - 1s/epoch - 4ms/step\n",
      "Epoch 12/100\n",
      "298/298 - 1s - loss: 0.3968 - accuracy: 0.8427 - 1s/epoch - 4ms/step\n",
      "Epoch 13/100\n",
      "298/298 - 1s - loss: 0.3841 - accuracy: 0.8446 - 1s/epoch - 4ms/step\n",
      "Epoch 14/100\n",
      "298/298 - 1s - loss: 0.3753 - accuracy: 0.8462 - 1s/epoch - 4ms/step\n",
      "Epoch 15/100\n",
      "298/298 - 1s - loss: 0.3691 - accuracy: 0.8509 - 1s/epoch - 4ms/step\n",
      "Epoch 16/100\n",
      "298/298 - 1s - loss: 0.3631 - accuracy: 0.8530 - 1s/epoch - 4ms/step\n",
      "Epoch 17/100\n",
      "298/298 - 1s - loss: 0.3587 - accuracy: 0.8534 - 1s/epoch - 4ms/step\n",
      "Epoch 18/100\n",
      "298/298 - 1s - loss: 0.3557 - accuracy: 0.8538 - 1s/epoch - 4ms/step\n",
      "Epoch 19/100\n",
      "298/298 - 1s - loss: 0.3501 - accuracy: 0.8549 - 1s/epoch - 4ms/step\n",
      "Epoch 20/100\n",
      "298/298 - 1s - loss: 0.3516 - accuracy: 0.8534 - 1s/epoch - 4ms/step\n",
      "Epoch 21/100\n",
      "298/298 - 1s - loss: 0.3469 - accuracy: 0.8551 - 1s/epoch - 4ms/step\n",
      "Epoch 22/100\n",
      "298/298 - 1s - loss: 0.3447 - accuracy: 0.8597 - 1s/epoch - 4ms/step\n",
      "Epoch 23/100\n",
      "298/298 - 1s - loss: 0.3424 - accuracy: 0.8574 - 1s/epoch - 4ms/step\n",
      "Epoch 24/100\n",
      "298/298 - 1s - loss: 0.3408 - accuracy: 0.8599 - 1s/epoch - 4ms/step\n",
      "Epoch 25/100\n",
      "298/298 - 1s - loss: 0.3401 - accuracy: 0.8576 - 1s/epoch - 4ms/step\n",
      "Epoch 26/100\n",
      "298/298 - 1s - loss: 0.3381 - accuracy: 0.8591 - 1s/epoch - 4ms/step\n",
      "Epoch 27/100\n",
      "298/298 - 1s - loss: 0.3379 - accuracy: 0.8593 - 1s/epoch - 4ms/step\n",
      "Epoch 28/100\n",
      "298/298 - 1s - loss: 0.3365 - accuracy: 0.8629 - 1s/epoch - 4ms/step\n",
      "Epoch 29/100\n",
      "298/298 - 1s - loss: 0.3346 - accuracy: 0.8631 - 1s/epoch - 4ms/step\n",
      "Epoch 30/100\n",
      "298/298 - 1s - loss: 0.3332 - accuracy: 0.8626 - 1s/epoch - 4ms/step\n",
      "Epoch 31/100\n",
      "298/298 - 1s - loss: 0.3327 - accuracy: 0.8624 - 1s/epoch - 4ms/step\n",
      "Epoch 32/100\n",
      "298/298 - 1s - loss: 0.3320 - accuracy: 0.8610 - 1s/epoch - 4ms/step\n",
      "Epoch 33/100\n",
      "298/298 - 1s - loss: 0.3302 - accuracy: 0.8614 - 1s/epoch - 4ms/step\n",
      "Epoch 34/100\n",
      "298/298 - 1s - loss: 0.3304 - accuracy: 0.8622 - 1s/epoch - 4ms/step\n",
      "Epoch 35/100\n",
      "298/298 - 1s - loss: 0.3288 - accuracy: 0.8595 - 1s/epoch - 4ms/step\n",
      "Epoch 36/100\n",
      "298/298 - 1s - loss: 0.3281 - accuracy: 0.8643 - 1s/epoch - 4ms/step\n",
      "Epoch 37/100\n",
      "298/298 - 1s - loss: 0.3291 - accuracy: 0.8643 - 1s/epoch - 4ms/step\n",
      "Epoch 38/100\n",
      "298/298 - 1s - loss: 0.3270 - accuracy: 0.8658 - 1s/epoch - 4ms/step\n",
      "Epoch 39/100\n",
      "298/298 - 1s - loss: 0.3268 - accuracy: 0.8645 - 1s/epoch - 4ms/step\n",
      "Epoch 40/100\n",
      "298/298 - 1s - loss: 0.3245 - accuracy: 0.8656 - 1s/epoch - 4ms/step\n",
      "Epoch 41/100\n",
      "298/298 - 1s - loss: 0.3257 - accuracy: 0.8637 - 1s/epoch - 4ms/step\n",
      "Epoch 42/100\n",
      "298/298 - 1s - loss: 0.3253 - accuracy: 0.8641 - 1s/epoch - 4ms/step\n",
      "Epoch 43/100\n",
      "298/298 - 1s - loss: 0.3247 - accuracy: 0.8675 - 1s/epoch - 4ms/step\n",
      "Epoch 44/100\n",
      "298/298 - 1s - loss: 0.3222 - accuracy: 0.8639 - 1s/epoch - 4ms/step\n",
      "Epoch 45/100\n",
      "298/298 - 1s - loss: 0.3234 - accuracy: 0.8633 - 1s/epoch - 4ms/step\n",
      "Epoch 46/100\n",
      "298/298 - 1s - loss: 0.3220 - accuracy: 0.8668 - 1s/epoch - 4ms/step\n",
      "Epoch 47/100\n",
      "298/298 - 1s - loss: 0.3212 - accuracy: 0.8652 - 1s/epoch - 4ms/step\n",
      "Epoch 48/100\n",
      "298/298 - 1s - loss: 0.3210 - accuracy: 0.8664 - 1s/epoch - 4ms/step\n",
      "Epoch 49/100\n",
      "298/298 - 1s - loss: 0.3199 - accuracy: 0.8658 - 1s/epoch - 4ms/step\n",
      "Epoch 50/100\n",
      "298/298 - 1s - loss: 0.3199 - accuracy: 0.8652 - 1s/epoch - 4ms/step\n",
      "Epoch 51/100\n",
      "298/298 - 1s - loss: 0.3194 - accuracy: 0.8666 - 1s/epoch - 4ms/step\n",
      "Epoch 52/100\n",
      "298/298 - 1s - loss: 0.3193 - accuracy: 0.8652 - 1s/epoch - 4ms/step\n",
      "Epoch 53/100\n",
      "298/298 - 1s - loss: 0.3174 - accuracy: 0.8681 - 1s/epoch - 4ms/step\n",
      "Epoch 54/100\n",
      "298/298 - 1s - loss: 0.3178 - accuracy: 0.8660 - 1s/epoch - 4ms/step\n",
      "Epoch 55/100\n",
      "298/298 - 1s - loss: 0.3171 - accuracy: 0.8694 - 1s/epoch - 4ms/step\n",
      "Epoch 56/100\n",
      "298/298 - 1s - loss: 0.3181 - accuracy: 0.8662 - 1s/epoch - 4ms/step\n",
      "Epoch 57/100\n",
      "298/298 - 1s - loss: 0.3171 - accuracy: 0.8666 - 1s/epoch - 4ms/step\n",
      "Epoch 58/100\n",
      "298/298 - 1s - loss: 0.3141 - accuracy: 0.8698 - 1s/epoch - 4ms/step\n",
      "Epoch 59/100\n",
      "298/298 - 1s - loss: 0.3163 - accuracy: 0.8654 - 1s/epoch - 4ms/step\n",
      "Epoch 60/100\n",
      "298/298 - 1s - loss: 0.3158 - accuracy: 0.8666 - 1s/epoch - 4ms/step\n",
      "Epoch 61/100\n",
      "298/298 - 1s - loss: 0.3177 - accuracy: 0.8673 - 1s/epoch - 4ms/step\n",
      "Epoch 62/100\n",
      "298/298 - 1s - loss: 0.3156 - accuracy: 0.8662 - 1s/epoch - 4ms/step\n",
      "Epoch 63/100\n",
      "298/298 - 1s - loss: 0.3127 - accuracy: 0.8654 - 1s/epoch - 4ms/step\n",
      "Epoch 64/100\n",
      "298/298 - 1s - loss: 0.3152 - accuracy: 0.8673 - 1s/epoch - 4ms/step\n",
      "Epoch 65/100\n",
      "298/298 - 1s - loss: 0.3152 - accuracy: 0.8671 - 1s/epoch - 4ms/step\n",
      "Epoch 66/100\n",
      "298/298 - 1s - loss: 0.3139 - accuracy: 0.8696 - 1s/epoch - 4ms/step\n",
      "Epoch 67/100\n",
      "298/298 - 1s - loss: 0.3150 - accuracy: 0.8677 - 1s/epoch - 4ms/step\n",
      "Epoch 68/100\n",
      "298/298 - 1s - loss: 0.3115 - accuracy: 0.8668 - 1s/epoch - 4ms/step\n",
      "Epoch 69/100\n",
      "298/298 - 1s - loss: 0.3122 - accuracy: 0.8694 - 1s/epoch - 4ms/step\n",
      "Epoch 70/100\n",
      "298/298 - 1s - loss: 0.3111 - accuracy: 0.8702 - 1s/epoch - 4ms/step\n",
      "Epoch 71/100\n",
      "298/298 - 1s - loss: 0.3107 - accuracy: 0.8656 - 1s/epoch - 4ms/step\n",
      "Epoch 72/100\n",
      "298/298 - 1s - loss: 0.3110 - accuracy: 0.8660 - 1s/epoch - 4ms/step\n",
      "Epoch 73/100\n",
      "298/298 - 1s - loss: 0.3094 - accuracy: 0.8662 - 1s/epoch - 4ms/step\n",
      "Epoch 74/100\n",
      "298/298 - 1s - loss: 0.3102 - accuracy: 0.8668 - 1s/epoch - 4ms/step\n",
      "Epoch 75/100\n",
      "298/298 - 1s - loss: 0.3093 - accuracy: 0.8683 - 1s/epoch - 4ms/step\n",
      "Epoch 76/100\n",
      "298/298 - 1s - loss: 0.3095 - accuracy: 0.8681 - 1s/epoch - 4ms/step\n",
      "Epoch 77/100\n",
      "298/298 - 1s - loss: 0.3084 - accuracy: 0.8679 - 1s/epoch - 4ms/step\n",
      "Epoch 78/100\n",
      "298/298 - 1s - loss: 0.3104 - accuracy: 0.8685 - 1s/epoch - 4ms/step\n",
      "Epoch 79/100\n",
      "298/298 - 1s - loss: 0.3088 - accuracy: 0.8704 - 1s/epoch - 4ms/step\n",
      "Epoch 80/100\n",
      "298/298 - 1s - loss: 0.3064 - accuracy: 0.8698 - 1s/epoch - 4ms/step\n",
      "Epoch 81/100\n",
      "298/298 - 1s - loss: 0.3092 - accuracy: 0.8685 - 1s/epoch - 4ms/step\n",
      "Epoch 82/100\n",
      "298/298 - 1s - loss: 0.3052 - accuracy: 0.8679 - 1s/epoch - 4ms/step\n",
      "Epoch 83/100\n",
      "298/298 - 1s - loss: 0.3067 - accuracy: 0.8685 - 1s/epoch - 4ms/step\n",
      "Epoch 84/100\n",
      "298/298 - 1s - loss: 0.3076 - accuracy: 0.8687 - 1s/epoch - 4ms/step\n",
      "Epoch 85/100\n",
      "298/298 - 1s - loss: 0.3055 - accuracy: 0.8696 - 1s/epoch - 4ms/step\n",
      "Epoch 86/100\n",
      "298/298 - 1s - loss: 0.3063 - accuracy: 0.8683 - 1s/epoch - 4ms/step\n",
      "Epoch 87/100\n",
      "298/298 - 1s - loss: 0.3065 - accuracy: 0.8713 - 1s/epoch - 4ms/step\n",
      "Epoch 88/100\n"
     ]
    }
   ],
   "source": [
    "from keras.models import Sequential\n",
    "from keras.layers import Dense\n",
    "from keras.optimizers import SGD\n",
    "\n",
    "model = Sequential()\n",
    "# model.add(Dense(10, input_dim=features.shape[1], activation='relu', kernel_initializer='he_normal'))\n",
    "model.add(Dense(32, input_dim=features.shape[1], activation='sigmoid', kernel_initializer='he_normal'))\n",
    "model.add(Dense(16, input_dim=features.shape[1], activation='sigmoid', kernel_initializer='he_normal'))\n",
    "model.add(Dense(1, activation='sigmoid'))\n",
    "# compile the keras model\n",
    "model.compile(loss='binary_crossentropy', optimizer='adam', metrics=['accuracy'])\n",
    "# fit the keras model on the dataset\n",
    "model.fit(features, encoded_targets, epochs=100, batch_size=16, verbose=2)"
   ]
  }
 ],
 "metadata": {
  "kernelspec": {
   "display_name": "Python 3 (ipykernel)",
   "language": "python",
   "name": "python3"
  },
  "language_info": {
   "codemirror_mode": {
    "name": "ipython",
    "version": 3
   },
   "file_extension": ".py",
   "mimetype": "text/x-python",
   "name": "python",
   "nbconvert_exporter": "python",
   "pygments_lexer": "ipython3",
   "version": "3.8.13"
  }
 },
 "nbformat": 4,
 "nbformat_minor": 5
}
